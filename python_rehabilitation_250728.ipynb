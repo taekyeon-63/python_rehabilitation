{
  "nbformat": 4,
  "nbformat_minor": 0,
  "metadata": {
    "colab": {
      "provenance": []
    },
    "kernelspec": {
      "name": "python3",
      "display_name": "Python 3"
    },
    "language_info": {
      "name": "python"
    }
  },
  "cells": [
    {
      "cell_type": "code",
      "execution_count": null,
      "metadata": {
        "colab": {
          "base_uri": "https://localhost:8080/"
        },
        "id": "bOONs2-OUXL8",
        "outputId": "dff52113-1f2b-46a9-8a3f-b773c38bd580"
      },
      "outputs": [
        {
          "output_type": "execute_result",
          "data": {
            "text/plain": [
              "[2, 3]"
            ]
          },
          "metadata": {},
          "execution_count": 6
        }
      ],
      "source": [
        "# 정수가 담긴 리스트 num_list가 주어질 때, num_list의 원소 중 짝수와 홀수의 개수를 담은 배열을 return 하도록 solution 함수를 완성해보세요.\n",
        "# 다시풀기\n",
        "\n",
        "def solution(num_list):\n",
        "    odd = 0\n",
        "    even = 0\n",
        "    for i in range(0,len(num_list)) :\n",
        "      if num_list[i] % 2 == 0 : even += 1\n",
        "      else : odd += 1\n",
        "    return [even, odd]\n",
        "\n",
        "solution([1, 2, 3, 4, 5])"
      ]
    },
    {
      "cell_type": "code",
      "source": [
        "# 문자열 my_string이 매개변수로 주어집니다. my_string을 거꾸로 뒤집은 문자열을 return하도록 solution 함수를 완성해주세요.\n",
        "# 다시풀기\n",
        "\n",
        "def solution(my_string):\n",
        "    return my_string[::-1]\n",
        "\n",
        "solution(\"qwerty\")"
      ],
      "metadata": {
        "colab": {
          "base_uri": "https://localhost:8080/",
          "height": 35
        },
        "id": "1ZvNasB8VV8a",
        "outputId": "2aa77fe8-5d59-48f8-90a2-94bab4439b9b"
      },
      "execution_count": null,
      "outputs": [
        {
          "output_type": "execute_result",
          "data": {
            "text/plain": [
              "'ytrewq'"
            ],
            "application/vnd.google.colaboratory.intrinsic+json": {
              "type": "string"
            }
          },
          "metadata": {},
          "execution_count": 13
        }
      ]
    },
    {
      "cell_type": "code",
      "source": [
        "# 머쓱이는 할머니께 생신 축하 편지를 쓰려고 합니다. 할머니가 보시기 편하도록 글자 한 자 한 자를 가로 2cm 크기로 적으려고 하며,\n",
        "# 편지를 가로로만 적을 때, 축하 문구 message를 적기 위해 필요한 편지지의 최소 가로길이를 return 하도록 solution 함수를 완성해주세요.\n",
        "\n",
        "def solution(message):\n",
        "    answer = 0\n",
        "    for i in range(0,len(message)) :\n",
        "      answer += 2\n",
        "    return answer\n",
        "\n",
        "solution(\"happy birthday!\")"
      ],
      "metadata": {
        "colab": {
          "base_uri": "https://localhost:8080/"
        },
        "id": "LFqynr0dWiDs",
        "outputId": "56ab128f-f852-4ebd-d6f8-0da61ce1306a"
      },
      "execution_count": null,
      "outputs": [
        {
          "output_type": "execute_result",
          "data": {
            "text/plain": [
              "30"
            ]
          },
          "metadata": {},
          "execution_count": 15
        }
      ]
    },
    {
      "cell_type": "code",
      "source": [
        "# 머쓱이네 피자가게는 피자를 일곱 조각으로 잘라 줍니다.\n",
        "# 피자를 나눠먹을 사람의 수 n이 주어질 때, 모든 사람이 피자를 한 조각 이상 먹기 위해 필요한 피자의 수를 return 하는 solution 함수를 완성해보세요.\n",
        "\n",
        "def solution(n) :\n",
        "  pizza = 1\n",
        "  piece = pizza * 7\n",
        "  for i in range(0,100):\n",
        "    if piece < n :\n",
        "      pizza += 1\n",
        "      piece = pizza * 7\n",
        "  return pizza\n",
        "\n",
        "solution(15)"
      ],
      "metadata": {
        "colab": {
          "base_uri": "https://localhost:8080/"
        },
        "id": "aBQPWALQX2ap",
        "outputId": "190006f5-70d8-4c20-a96b-c75514701e6f"
      },
      "execution_count": null,
      "outputs": [
        {
          "output_type": "execute_result",
          "data": {
            "text/plain": [
              "3"
            ]
          },
          "metadata": {},
          "execution_count": 18
        }
      ]
    },
    {
      "cell_type": "code",
      "source": [
        "# 어떤 세균은 1시간에 두배만큼 증식한다고 합니다.\n",
        "# 처음 세균의 마리수 n과 경과한 시간 t가 매개변수로 주어질 때 t시간 후 세균의 수를 return하도록 solution 함수를 완성해주세요.\n",
        "# 다시풀기\n",
        "\n",
        "def solution(n,t) :\n",
        "  segyun = n\n",
        "  time = 2**t\n",
        "  return segyun*time\n",
        "\n",
        "solution(2,10)"
      ],
      "metadata": {
        "colab": {
          "base_uri": "https://localhost:8080/"
        },
        "id": "r1ias3faY3EA",
        "outputId": "6a7e7754-da65-4917-c041-603d598f0053"
      },
      "execution_count": null,
      "outputs": [
        {
          "output_type": "execute_result",
          "data": {
            "text/plain": [
              "2048"
            ]
          },
          "metadata": {},
          "execution_count": 28
        }
      ]
    },
    {
      "cell_type": "code",
      "source": [
        "# 정수 배열 numbers가 매개변수로 주어집니다. numbers의 원소 중 두 개를 곱해 만들 수 있는 최댓값을 return하도록 solution 함수를 완성해주세요.\n",
        "# 다시풀기\n",
        "\n",
        "def solution(num) :\n",
        "  num = sorted(num)\n",
        "  return num[-1] * num[-2]\n",
        "\n",
        "solution([0, 31, 24, 10, 1, 9])"
      ],
      "metadata": {
        "colab": {
          "base_uri": "https://localhost:8080/"
        },
        "id": "VfrmZ-jVZoUj",
        "outputId": "e8f9f536-f37f-462d-f2aa-b20e46227f93"
      },
      "execution_count": null,
      "outputs": [
        {
          "output_type": "execute_result",
          "data": {
            "text/plain": [
              "744"
            ]
          },
          "metadata": {},
          "execution_count": 39
        }
      ]
    },
    {
      "cell_type": "code",
      "source": [
        "# 정수 n이 매개변수로 주어질 때 n의 각 자리 숫자의 합을 return하도록 solution 함수를 완성해주세요\n",
        "# 다시풀기\n",
        "\n",
        "def solution(num) :\n",
        "  baekman = num // 1000000\n",
        "  sipman = (num % 1000000) // 100000\n",
        "  man =  (num % 100000) // 10000\n",
        "  cheon = (num % 10000) // 1000\n",
        "  baek = (num % 1000) // 100\n",
        "  sip = (num % 100) // 10\n",
        "  il = num % 10\n",
        "  return baekman + sipman + man + cheon + baek + sip + il\n",
        "\n",
        "solution(930211)"
      ],
      "metadata": {
        "colab": {
          "base_uri": "https://localhost:8080/"
        },
        "id": "M7Zv05f6bn7X",
        "outputId": "f314d5e5-1305-42d0-c140-77811e4c37c4"
      },
      "execution_count": null,
      "outputs": [
        {
          "output_type": "execute_result",
          "data": {
            "text/plain": [
              "16"
            ]
          },
          "metadata": {},
          "execution_count": 44
        }
      ]
    },
    {
      "cell_type": "code",
      "source": [
        "# 머쓱이는 학교에서 키 순으로 줄을 설 때 몇 번째로 서야 하는지 궁금해졌습니다.\n",
        "# 머쓱이네 반 친구들의 키가 담긴 정수 배열 array와 머쓱이의 키 height가 매개변수로 주어질 때, 머쓱이보다 키 큰 사람 수를 return 하도록 solution 함수를 완성해보세요.\n",
        "\n",
        "def solution(array, height) :\n",
        "  tall = 0\n",
        "  for i in range(0, len(array)) :\n",
        "    if array[i] > height : tall += 1\n",
        "  return tall\n",
        "\n",
        "solution([149, 180, 192, 170],\t167)"
      ],
      "metadata": {
        "colab": {
          "base_uri": "https://localhost:8080/"
        },
        "id": "P_wcAh22eJkp",
        "outputId": "7918505c-1b0b-470c-f3da-f4f76f747a41"
      },
      "execution_count": null,
      "outputs": [
        {
          "output_type": "execute_result",
          "data": {
            "text/plain": [
              "3"
            ]
          },
          "metadata": {},
          "execution_count": 45
        }
      ]
    },
    {
      "cell_type": "code",
      "source": [
        "# 선분 세 개로 삼각형을 만들기 위해서는 다음과 같은 조건을 만족해야 합니다.\n",
        "\n",
        "# 가장 긴 변의 길이는 다른 두 변의 길이의 합보다 작아야 합니다.\n",
        "# 삼각형의 세 변의 길이가 담긴 배열 sides이 매개변수로 주어집니다. 세 변으로 삼각형을 만들 수 있다면 1, 만들 수 없다면 2를 return하도록 solution 함수를 완성해주세요.\n",
        "\n",
        "def solution(sides) :\n",
        "  sides = sorted(sides)\n",
        "  first = sides[-1]\n",
        "  second = sides[-2]\n",
        "  third = sides[-3]\n",
        "  if first < second + third : return 1\n",
        "  else : return 2\n",
        "\n",
        "solution([1, 2, 3])"
      ],
      "metadata": {
        "colab": {
          "base_uri": "https://localhost:8080/"
        },
        "id": "F52pEVmwftXk",
        "outputId": "a2d74663-6407-4813-f034-715eb461db0b"
      },
      "execution_count": null,
      "outputs": [
        {
          "output_type": "execute_result",
          "data": {
            "text/plain": [
              "2"
            ]
          },
          "metadata": {},
          "execution_count": 48
        }
      ]
    },
    {
      "cell_type": "code",
      "source": [
        "# 정수 배열 numbers와 정수 num1, num2가 매개변수로 주어질 때,\n",
        "# numbers의 num1번 째 인덱스부터 num2번째 인덱스까지 자른 정수 배열을 return 하도록 solution 함수를 완성해보세요.\n",
        "# 다시풀기\n",
        "\n",
        "def solution(numbers, num1, num2) :\n",
        "  return numbers[num1:num2+1]\n",
        "\n",
        "solution([1, 2, 3, 4, 5],\t1,\t3)"
      ],
      "metadata": {
        "colab": {
          "base_uri": "https://localhost:8080/"
        },
        "id": "gKqAXoLfhOPI",
        "outputId": "edc6975a-3455-4234-d17f-85fd3982fad9"
      },
      "execution_count": null,
      "outputs": [
        {
          "output_type": "execute_result",
          "data": {
            "text/plain": [
              "[2, 3, 4]"
            ]
          },
          "metadata": {},
          "execution_count": 55
        }
      ]
    },
    {
      "cell_type": "code",
      "source": [
        "# 머쓱이네 피자가게는 피자를 두 조각에서 열 조각까지 원하는 조각 수로 잘라줍니다.\n",
        "# 피자 조각 수 slice와 피자를 먹는 사람의 수 n이 매개변수로 주어질 때,\n",
        "# n명의 사람이 최소 한 조각 이상 피자를 먹으려면 최소 몇 판의 피자를 시켜야 하는지를 return 하도록 solution 함수를 완성해보세요.\n",
        "\n",
        "def solution(slice, n) :\n",
        "  pizza = 1\n",
        "  piece = pizza*slice\n",
        "  for i in range(0,100) :\n",
        "    if piece < n :\n",
        "      pizza += 1\n",
        "      piece = pizza*slice\n",
        "  return pizza\n",
        "\n",
        "solution(4,\t12)"
      ],
      "metadata": {
        "colab": {
          "base_uri": "https://localhost:8080/"
        },
        "id": "CAGn8P1LrLtn",
        "outputId": "d4114e1d-585f-42da-86f2-3822481a30f8"
      },
      "execution_count": null,
      "outputs": [
        {
          "output_type": "execute_result",
          "data": {
            "text/plain": [
              "3"
            ]
          },
          "metadata": {},
          "execution_count": 57
        }
      ]
    },
    {
      "cell_type": "code",
      "source": [
        "# x 좌표 (x, y)를 차례대로 담은 정수 배열 dot이 매개변수로 주어집니다.\n",
        "# 좌표 dot이 사분면 중 어디에 속하는지 1, 2, 3, 4 중 하나를 return 하도록 solution 함수를 완성해주세요.\n",
        "\n",
        "def solution(dot):\n",
        "  if dot[0] > 0 :\n",
        "    if dot[1] > 0 : return 1\n",
        "    else : return 4\n",
        "  else :\n",
        "    if dot[1] > 0 : return 2\n",
        "    else : return 3\n",
        "\n",
        "solution([2, 4])"
      ],
      "metadata": {
        "colab": {
          "base_uri": "https://localhost:8080/"
        },
        "id": "BNkBbAyktG3S",
        "outputId": "fea2c680-9b09-4fec-f3c7-5595ab00e76b"
      },
      "execution_count": null,
      "outputs": [
        {
          "output_type": "execute_result",
          "data": {
            "text/plain": [
              "1"
            ]
          },
          "metadata": {},
          "execution_count": 58
        }
      ]
    },
    {
      "cell_type": "code",
      "source": [
        "# 두 배열이 얼마나 유사한지 확인해보려고 합니다. 문자열 배열 s1과 s2가 주어질 때 같은 원소의 개수를 return하도록 solution 함수를 완성해주세요.\n",
        "\n",
        "def solution(s1, s2) :\n",
        "  same = 0\n",
        "  for i in range(0, len(s1)) :\n",
        "    for j in range(0, len(s2)) :\n",
        "      if s1[i] == s2[j] : same += 1\n",
        "  return same\n",
        "\n",
        "solution([\"a\", \"b\", \"c\"],\t[\"com\", \"b\", \"d\", \"p\", \"c\"])"
      ],
      "metadata": {
        "colab": {
          "base_uri": "https://localhost:8080/"
        },
        "id": "eGBRQk-8trWw",
        "outputId": "0979ac8c-18b0-463a-b191-276f49a93019"
      },
      "execution_count": null,
      "outputs": [
        {
          "output_type": "execute_result",
          "data": {
            "text/plain": [
              "2"
            ]
          },
          "metadata": {},
          "execution_count": 60
        }
      ]
    },
    {
      "cell_type": "code",
      "source": [
        "# 순서쌍이란 두 개의 숫자를 순서를 정하여 짝지어 나타낸 쌍으로 (a, b)로 표기합니다.\n",
        "# 자연수 n이 매개변수로 주어질 때 두 숫자의 곱이 n인 자연수 순서쌍의 개수를 return하도록 solution 함수를 완성해주세요.\n",
        "\n",
        "def solution(n) :\n",
        "  mok = 0\n",
        "  for i in range(1, n+1) :\n",
        "    if n % i == 0 : mok += 1\n",
        "  return mok\n",
        "\n",
        "solution(20)"
      ],
      "metadata": {
        "colab": {
          "base_uri": "https://localhost:8080/"
        },
        "id": "BjKSV9_FuPmN",
        "outputId": "b3b38eb0-575b-47bc-b98a-b93ceacc76f2"
      },
      "execution_count": null,
      "outputs": [
        {
          "output_type": "execute_result",
          "data": {
            "text/plain": [
              "6"
            ]
          },
          "metadata": {},
          "execution_count": 64
        }
      ]
    },
    {
      "cell_type": "code",
      "source": [
        "# 정수 n과 정수 배열 numlist가 매개변수로 주어질 때, numlist에서 n의 배수가 아닌 수들을 제거한 배열을 return하도록 solution 함수를 완성해주세요.\n",
        "\n",
        "def solution(n, numlist) :\n",
        "  bae = []\n",
        "  for i in range(0, len(numlist)) :\n",
        "    if numlist[i] % n == 0 :\n",
        "      bae.append(numlist[i])\n",
        "  return bae\n",
        "\n",
        "solution(3,\t[4, 5, 6, 7, 8, 9, 10, 11, 12])"
      ],
      "metadata": {
        "colab": {
          "base_uri": "https://localhost:8080/"
        },
        "id": "KFLy5rJjuzjS",
        "outputId": "7a96d6f2-41ac-4c6c-ec42-fc8737c05946"
      },
      "execution_count": null,
      "outputs": [
        {
          "output_type": "execute_result",
          "data": {
            "text/plain": [
              "[6, 9, 12]"
            ]
          },
          "metadata": {},
          "execution_count": 66
        }
      ]
    },
    {
      "cell_type": "code",
      "source": [
        "# 문자열 배열 strlist가 매개변수로 주어집니다. strlist 각 원소의 길이를 담은 배열을 return하도록 solution 함수를 완성해주세요.\n",
        "\n",
        "def solution(strlist) :\n",
        "  gil = []\n",
        "  for i in range(0, len(strlist)) :\n",
        "    gil.append(len(strlist[i]))\n",
        "  return gil\n",
        "\n",
        "solution([\"We\", \"are\", \"the\", \"world!\"])"
      ],
      "metadata": {
        "colab": {
          "base_uri": "https://localhost:8080/"
        },
        "id": "AElqLVmevqUD",
        "outputId": "d7db590b-1ea0-4272-f59e-53f92de57444"
      },
      "execution_count": null,
      "outputs": [
        {
          "output_type": "execute_result",
          "data": {
            "text/plain": [
              "[2, 3, 3, 6]"
            ]
          },
          "metadata": {},
          "execution_count": 67
        }
      ]
    },
    {
      "cell_type": "code",
      "source": [
        "# 머쓱이는 추운 날에도 아이스 아메리카노만 마십니다. 아이스 아메리카노는 한잔에 5,500원입니다.\n",
        "# 머쓱이가 가지고 있는 돈 money가 매개변수로 주어질 때,\n",
        "# 머쓱이가 최대로 마실 수 있는 아메리카노의 잔 수와 남는 돈을 순서대로 담은 배열을 return 하도록 solution 함수를 완성해보세요.\n",
        "\n",
        "def solution(money) :\n",
        "  return [money // 5500, money % 5500]\n",
        "\n",
        "solution(20000)"
      ],
      "metadata": {
        "colab": {
          "base_uri": "https://localhost:8080/"
        },
        "id": "3dFPvoQ9wQDO",
        "outputId": "bc0fb745-7e56-4c35-8f16-67cca1b6dc55"
      },
      "execution_count": null,
      "outputs": [
        {
          "output_type": "execute_result",
          "data": {
            "text/plain": [
              "[3, 3500]"
            ]
          },
          "metadata": {},
          "execution_count": 69
        }
      ]
    },
    {
      "cell_type": "code",
      "source": [
        "# 문자열 str1, str2가 매개변수로 주어집니다. str1 안에 str2가 있다면 1을 없다면 2를 return하도록 solution 함수를 완성해주세요.\n",
        "# 다시풀기\n",
        "\n",
        "def solution(str1, str2) :\n",
        "  if str2 in str1 : return 1\n",
        "  else : return 2\n",
        "\n",
        "solution(\"ab6CDE443fgh22iJKlmn1o\",\t\"6CD\")"
      ],
      "metadata": {
        "colab": {
          "base_uri": "https://localhost:8080/"
        },
        "id": "VD363sXLwqWv",
        "outputId": "55f8ac54-db79-419a-bbb9-7151f590f72f"
      },
      "execution_count": null,
      "outputs": [
        {
          "output_type": "execute_result",
          "data": {
            "text/plain": [
              "1"
            ]
          },
          "metadata": {},
          "execution_count": 70
        }
      ]
    },
    {
      "cell_type": "code",
      "source": [
        "# 문자열 my_string과 정수 n이 매개변수로 주어질 때, my_string에 들어있는 각 문자를 n만큼 반복한 문자열을 return 하도록 solution 함수를 완성해보세요.\n",
        "# 다시풀기\n",
        "\n",
        "def solution(my_string, n) :\n",
        "  norm = []\n",
        "  for i in range(0,len(my_string)) :\n",
        "    for j in range(0,n) :\n",
        "      norm.append(my_string[i])\n",
        "  return ''.join(norm)\n",
        "\n",
        "solution(\"hello\",\t3)"
      ],
      "metadata": {
        "colab": {
          "base_uri": "https://localhost:8080/",
          "height": 35
        },
        "id": "jEQOmo7F56St",
        "outputId": "1d623dda-f086-4a5f-85d2-e68a6977164c"
      },
      "execution_count": null,
      "outputs": [
        {
          "output_type": "execute_result",
          "data": {
            "text/plain": [
              "'hhheeellllllooo'"
            ],
            "application/vnd.google.colaboratory.intrinsic+json": {
              "type": "string"
            }
          },
          "metadata": {},
          "execution_count": 75
        }
      ]
    },
    {
      "cell_type": "code",
      "source": [
        "# 어떤 자연수를 제곱했을 때 나오는 정수를 제곱수라고 합니다. 정수 n이 매개변수로 주어질 때, n이 제곱수라면 1을 아니라면 2를 return하도록 solution 함수를 완성해주세요.\n",
        "\n",
        "def solution(n) :\n",
        "  for i in range(1,n) :\n",
        "    if n / i == i : return 1\n",
        "  return 2\n",
        "\n",
        "solution(144)"
      ],
      "metadata": {
        "colab": {
          "base_uri": "https://localhost:8080/"
        },
        "id": "CIqzUP4-6kEb",
        "outputId": "11502bd5-ab3b-40c3-84dd-d6234b35b77c"
      },
      "execution_count": null,
      "outputs": [
        {
          "output_type": "execute_result",
          "data": {
            "text/plain": [
              "1"
            ]
          },
          "metadata": {},
          "execution_count": 77
        }
      ]
    },
    {
      "cell_type": "code",
      "source": [
        "# 영어에선 a, e, i, o, u 다섯 가지 알파벳을 모음으로 분류합니다.\n",
        "# 문자열 my_string이 매개변수로 주어질 때 모음을 제거한 문자열을 return하도록 solution 함수를 완성해주세요.\n",
        "\n",
        "def solution(my_string) :\n",
        "  my_str = []\n",
        "  for i in range(0, len(my_string)) :\n",
        "    if my_string[i] != 'a' :\n",
        "      if my_string[i] != 'e' :\n",
        "        if my_string[i] != 'i' :\n",
        "          if my_string[i] != 'o' :\n",
        "            if my_string[i] != 'u' : my_str.append(my_string[i])\n",
        "  return ''.join(my_str)\n",
        "\n",
        "solution(\"nice to meet you\")"
      ],
      "metadata": {
        "colab": {
          "base_uri": "https://localhost:8080/",
          "height": 35
        },
        "id": "xaOgHBki7bu0",
        "outputId": "b1a7a49b-f6c9-4595-ddac-572ef478d17d"
      },
      "execution_count": null,
      "outputs": [
        {
          "output_type": "execute_result",
          "data": {
            "text/plain": [
              "'nc t mt y'"
            ],
            "application/vnd.google.colaboratory.intrinsic+json": {
              "type": "string"
            }
          },
          "metadata": {},
          "execution_count": 79
        }
      ]
    },
    {
      "cell_type": "code",
      "source": [
        "# 문자열 my_string과 문자 letter이 매개변수로 주어집니다. my_string에서 letter를 제거한 문자열을 return하도록 solution 함수를 완성해주세요.\n",
        "\n",
        "def solution(my_string, letter) :\n",
        "  my_str = []\n",
        "  for i in range(0, len(my_string)) :\n",
        "    if my_string[i] != letter : my_str.append(my_string[i])\n",
        "  return ''.join(my_str)\n",
        "\n",
        "solution(\"abcdef\",\"f\" )"
      ],
      "metadata": {
        "colab": {
          "base_uri": "https://localhost:8080/",
          "height": 35
        },
        "id": "0Usk0eQm8Qd0",
        "outputId": "07ab73b6-29a8-4da7-94ca-882f75b99487"
      },
      "execution_count": null,
      "outputs": [
        {
          "output_type": "execute_result",
          "data": {
            "text/plain": [
              "'abcde'"
            ],
            "application/vnd.google.colaboratory.intrinsic+json": {
              "type": "string"
            }
          },
          "metadata": {},
          "execution_count": 80
        }
      ]
    },
    {
      "cell_type": "code",
      "source": [
        "# 정수가 담긴 배열 array와 정수 n이 매개변수로 주어질 때, array에 n이 몇 개 있는 지를 return 하도록 solution 함수를 완성해보세요.\n",
        "\n",
        "def solution(array, n) :\n",
        "  cnt = 0\n",
        "  for i in range(0, len(array)) :\n",
        "    if array[i] == n : cnt += 1\n",
        "  return cnt\n",
        "\n",
        "solution([1, 1, 2, 3, 4, 5],\t1)"
      ],
      "metadata": {
        "colab": {
          "base_uri": "https://localhost:8080/"
        },
        "id": "PemBk2ga-CyM",
        "outputId": "7e3f30ea-ec70-4746-b53f-f399815c041b"
      },
      "execution_count": null,
      "outputs": [
        {
          "output_type": "execute_result",
          "data": {
            "text/plain": [
              "2"
            ]
          },
          "metadata": {},
          "execution_count": 81
        }
      ]
    }
  ]
}