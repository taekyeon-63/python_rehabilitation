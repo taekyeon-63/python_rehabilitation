{
  "nbformat": 4,
  "nbformat_minor": 0,
  "metadata": {
    "colab": {
      "provenance": []
    },
    "kernelspec": {
      "name": "python3",
      "display_name": "Python 3"
    },
    "language_info": {
      "name": "python"
    }
  },
  "cells": [
    {
      "cell_type": "code",
      "execution_count": null,
      "metadata": {
        "colab": {
          "base_uri": "https://localhost:8080/"
        },
        "id": "MbjUFFf3icRD",
        "outputId": "96d285d0-7a30-4755-bdb5-792a29adfd37"
      },
      "outputs": [
        {
          "output_type": "execute_result",
          "data": {
            "text/plain": [
              "[2, 4, 6, 8, 10]"
            ]
          },
          "metadata": {},
          "execution_count": 2
        }
      ],
      "source": [
        "# 정수 배열 numbers가 매개변수로 주어집니다. numbers의 각 원소에 두배한 원소를 가진 배열을 return하도록 solution 함수를 완성해주세요.\n",
        "\n",
        "def solution(numbers) :\n",
        "  for i in range(0, len(numbers)) :\n",
        "    numbers[i] = 2*numbers[i]\n",
        "  return numbers\n",
        "\n",
        "solution([1, 2, 3, 4, 5])"
      ]
    },
    {
      "cell_type": "code",
      "source": [
        "# 정수 배열 array가 매개변수로 주어질 때, 중앙값을 return 하도록 solution 함수를 완성해보세요.\n",
        "# 다시풀기\n",
        "\n",
        "def solution(numbers) :\n",
        "  numbers = sorted(numbers)\n",
        "  median = len(numbers) // 2\n",
        "  return numbers[median]\n",
        "\n",
        "solution([1, 2, 7, 10, 11])"
      ],
      "metadata": {
        "colab": {
          "base_uri": "https://localhost:8080/"
        },
        "id": "Ir87UwwJiwzD",
        "outputId": "30eda541-5c23-4f15-9c6f-5f8b0264e947"
      },
      "execution_count": null,
      "outputs": [
        {
          "output_type": "execute_result",
          "data": {
            "text/plain": [
              "7"
            ]
          },
          "metadata": {},
          "execution_count": 6
        }
      ]
    },
    {
      "cell_type": "code",
      "source": [
        "# 정수 n이 매개변수로 주어질 때, n 이하의 홀수가 오름차순으로 담긴 배열을 return하도록 solution 함수를 완성해주세요.\n",
        "\n",
        "def solution(n) :\n",
        "  odd = []\n",
        "  for i in range(0,n+1) :\n",
        "    if i % 2 == 1 : odd.append(i)\n",
        "  return odd\n",
        "\n",
        "solution(10)\n"
      ],
      "metadata": {
        "colab": {
          "base_uri": "https://localhost:8080/"
        },
        "id": "K66CuIh4jcVL",
        "outputId": "e115d484-5607-467a-cea3-f74652207bb6"
      },
      "execution_count": null,
      "outputs": [
        {
          "output_type": "execute_result",
          "data": {
            "text/plain": [
              "[1, 3, 5, 7, 9]"
            ]
          },
          "metadata": {},
          "execution_count": 7
        }
      ]
    },
    {
      "cell_type": "code",
      "source": [
        "# 머쓱이네 옷가게는 10만 원 이상 사면 5%, 30만 원 이상 사면 10%, 50만 원 이상 사면 20%를 할인해줍니다.\n",
        "# 구매한 옷의 가격 price가 주어질 때, 지불해야 할 금액을 return 하도록 solution 함수를 완성해보세요.\n",
        "# 다시풀기\n",
        "\n",
        "def solution(price) :\n",
        "  if price >= 500000 : return int(price * 0.8)\n",
        "  elif price >= 300000 : return int(price * 0.9)\n",
        "  elif price >= 100000 : return int(price * 0.95)\n",
        "  else : return price\n",
        "\n",
        "solution(150000)"
      ],
      "metadata": {
        "colab": {
          "base_uri": "https://localhost:8080/"
        },
        "id": "DTbITvAUlEcw",
        "outputId": "a490fc77-60ea-4234-8157-40fa4468e6e3"
      },
      "execution_count": null,
      "outputs": [
        {
          "output_type": "execute_result",
          "data": {
            "text/plain": [
              "142500"
            ]
          },
          "metadata": {},
          "execution_count": 10
        }
      ]
    },
    {
      "cell_type": "code",
      "source": [
        "# \"*\"의 높이와 너비를 1이라고 했을 때, \"*\"을 이용해 직각 이등변 삼각형을 그리려고 합니다.\n",
        "# 정수 n 이 주어지면 높이와 너비가 n 인 직각 이등변 삼각형을 출력하도록 코드를 작성해보세요.\n",
        "\n",
        "n = int(input())\n",
        "for i in range(1,n+1) :\n",
        "  print('*'*i)"
      ],
      "metadata": {
        "colab": {
          "base_uri": "https://localhost:8080/"
        },
        "id": "qFMePQUDl_Pv",
        "outputId": "4e9ba1ce-9307-4caf-af5b-3a34402769a5"
      },
      "execution_count": null,
      "outputs": [
        {
          "output_type": "stream",
          "name": "stdout",
          "text": [
            "3\n",
            "*\n",
            "**\n",
            "***\n"
          ]
        }
      ]
    },
    {
      "cell_type": "code",
      "source": [
        "# 개미 군단이 사냥을 나가려고 합니다. 개미군단은 사냥감의 체력에 딱 맞는 병력을 데리고 나가려고 합니다.\n",
        "# 장군개미는 5의 공격력을, 병정개미는 3의 공격력을 일개미는 1의 공격력을 가지고 있습니다.\n",
        "# 예를 들어 체력 23의 여치를 사냥하려고 할 때, 일개미 23마리를 데리고 가도 되지만, 장군개미 네 마리와 병정개미 한 마리를 데리고 간다면 더 적은 병력으로 사냥할 수 있습니다.\n",
        "# 사냥감의 체력 hp가 매개변수로 주어질 때, 사냥감의 체력에 딱 맞게 최소한의 병력을 구성하려면 몇 마리의 개미가 필요한지를 return하도록 solution 함수를 완성해주세요.\n",
        "\n",
        "def solution(hp) :\n",
        "  soldier = 0\n",
        "  if hp // 5 >= 1 : soldier += (hp // 5)\n",
        "  if (hp % 5) >= 3 : soldier += ((hp % 5) // 3)\n",
        "  soldier += ((hp % 5) % 3)\n",
        "  return soldier\n",
        "\n",
        "solution(23)"
      ],
      "metadata": {
        "colab": {
          "base_uri": "https://localhost:8080/"
        },
        "id": "PgVbyT27pafi",
        "outputId": "b8759597-c34a-484d-8f75-3d20c5cbd595"
      },
      "execution_count": null,
      "outputs": [
        {
          "output_type": "execute_result",
          "data": {
            "text/plain": [
              "5"
            ]
          },
          "metadata": {},
          "execution_count": 24
        }
      ]
    },
    {
      "cell_type": "code",
      "source": [
        "# 가위는 2 바위는 0 보는 5로 표현합니다.\n",
        "# 가위 바위 보를 내는 순서대로 나타낸 문자열 rsp가 매개변수로 주어질 때,\n",
        "# rsp에 저장된 가위 바위 보를 모두 이기는 경우를 순서대로 나타낸 문자열을 return하도록 solution 함수를 완성해보세요.\n",
        "# 다시풀기\n",
        "\n",
        "def solution(rsp) :\n",
        "  win = []\n",
        "  for i in range(0, len(rsp)) :\n",
        "    if rsp[i] == '2' : win.append('0')\n",
        "    elif rsp[i] == '5' : win.append('2')\n",
        "    elif rsp[i] == '0' : win.append('5')\n",
        "  return ''.join(win)\n",
        "\n",
        "solution(\"205\")"
      ],
      "metadata": {
        "colab": {
          "base_uri": "https://localhost:8080/",
          "height": 35
        },
        "id": "t9LQgDjmq4y8",
        "outputId": "5e377273-dbf5-40fa-d33b-a36c4f773963"
      },
      "execution_count": null,
      "outputs": [
        {
          "output_type": "execute_result",
          "data": {
            "text/plain": [
              "'052'"
            ],
            "application/vnd.google.colaboratory.intrinsic+json": {
              "type": "string"
            }
          },
          "metadata": {},
          "execution_count": 3
        }
      ]
    },
    {
      "cell_type": "code",
      "source": [
        "# 머쓱이는 직육면체 모양의 상자를 하나 가지고 있는데 이 상자에 정육면체 모양의 주사위를 최대한 많이 채우고 싶습니다.\n",
        "# 상자의 가로, 세로, 높이가 저장되어있는 배열 box와 주사위 모서리의 길이 정수 n이 매개변수로 주어졌을 때,\n",
        "# 상자에 들어갈 수 있는 주사위의 최대 개수를 return 하도록 solution 함수를 완성해주세요.\n",
        "\n",
        "def solution(box, n) :\n",
        "  return (box[0]//n)*(box[1]//n)*(box[2]//n)\n",
        "\n",
        "solution([10, 8, 6],\t3)"
      ],
      "metadata": {
        "colab": {
          "base_uri": "https://localhost:8080/"
        },
        "id": "c948wLausIrV",
        "outputId": "822652be-140e-42f3-e375-7a2f626fb342"
      },
      "execution_count": null,
      "outputs": [
        {
          "output_type": "execute_result",
          "data": {
            "text/plain": [
              "12"
            ]
          },
          "metadata": {},
          "execution_count": 47
        }
      ]
    },
    {
      "cell_type": "code",
      "source": [
        "# 문자열 my_string이 매개변수로 주어질 때, my_string 안에 있는 숫자만 골라 오름차순 정렬한 리스트를 return 하도록 solution 함수를 작성해보세요.\n",
        "# 다시풀기\n",
        "\n",
        "def solution(my_string) :\n",
        "  your_string = []\n",
        "  for i in my_string :\n",
        "    if i.isdigit():\n",
        "      your_string.append(int(i))\n",
        "  your_string = sorted(your_string)\n",
        "  return your_string\n",
        "\n",
        "solution(\"hi12392\")"
      ],
      "metadata": {
        "colab": {
          "base_uri": "https://localhost:8080/"
        },
        "id": "gTpjAINguMxv",
        "outputId": "3c9c86b2-77da-432b-8524-1941ce82f7d2"
      },
      "execution_count": null,
      "outputs": [
        {
          "output_type": "execute_result",
          "data": {
            "text/plain": [
              "[1, 2, 2, 3, 9]"
            ]
          },
          "metadata": {},
          "execution_count": 50
        }
      ]
    },
    {
      "cell_type": "code",
      "source": [
        " # 문자열 my_string이 매개변수로 주어집니다. my_string안의 모든 자연수들의 합을 return하도록 solution 함수를 완성해주세요.\n",
        "\n",
        "def solution(my_string) :\n",
        "  sum = 0\n",
        "  for i in my_string :\n",
        "    if i.isdigit() :\n",
        "      sum += int(i)\n",
        "  return sum\n",
        "\n",
        "solution(\"aAb1B2cC34oOp\")"
      ],
      "metadata": {
        "colab": {
          "base_uri": "https://localhost:8080/"
        },
        "id": "a2hSeOuXvcju",
        "outputId": "321946b6-840f-4cbb-bd58-5b0253231337"
      },
      "execution_count": null,
      "outputs": [
        {
          "output_type": "execute_result",
          "data": {
            "text/plain": [
              "10"
            ]
          },
          "metadata": {},
          "execution_count": 54
        }
      ]
    },
    {
      "cell_type": "code",
      "source": [
        "# 정수 배열 numbers가 매개변수로 주어집니다. numbers의 원소 중 두 개를 곱해 만들 수 있는 최댓값을 return하도록 solution 함수를 완성해주세요.\n",
        "\n",
        "def solution(numbers) :\n",
        "  numbers = sorted(numbers)\n",
        "  return max(numbers[0]*numbers[1], numbers[-1]*numbers[-2])\n",
        "\n",
        "solution([1, 2, -3, 4, -5])"
      ],
      "metadata": {
        "colab": {
          "base_uri": "https://localhost:8080/"
        },
        "id": "05ka6upAwp77",
        "outputId": "846eb99a-6df4-42f3-dea1-f19cd472f80e"
      },
      "execution_count": null,
      "outputs": [
        {
          "output_type": "execute_result",
          "data": {
            "text/plain": [
              "15"
            ]
          },
          "metadata": {},
          "execution_count": 61
        }
      ]
    },
    {
      "cell_type": "code",
      "source": [
        "# 군 전략가 머쓱이는 전쟁 중 적군이 다음과 같은 암호 체계를 사용한다는 것을 알아냈습니다.\n",
        "\n",
        "# 암호화된 문자열 cipher를 주고받습니다.\n",
        "# 그 문자열에서 code의 배수 번째 글자만 진짜 암호입니다.\n",
        "# 문자열 cipher와 정수 code가 매개변수로 주어질 때 해독된 암호 문자열을 return하도록 solution 함수를 완성해주세요.\n",
        "\n",
        "def solution(cipher, code) :\n",
        "  return cipher[code-1::code]\n",
        "\n",
        "solution(\"pfqallllabwaoclk\",\t2)"
      ],
      "metadata": {
        "colab": {
          "base_uri": "https://localhost:8080/",
          "height": 35
        },
        "id": "ysLGUjL3xQQx",
        "outputId": "76bdb9b0-370e-41ab-b9c6-c409504aa609"
      },
      "execution_count": null,
      "outputs": [
        {
          "output_type": "execute_result",
          "data": {
            "text/plain": [
              "'fallback'"
            ],
            "application/vnd.google.colaboratory.intrinsic+json": {
              "type": "string"
            }
          },
          "metadata": {},
          "execution_count": 67
        }
      ]
    },
    {
      "cell_type": "code",
      "source": [
        "# 문자열 my_string이 매개변수로 주어질 때, 대문자는 소문자로 소문자는 대문자로 변환한 문자열을 return하도록 solution 함수를 완성해주세요.\n",
        "# 다시풀기\n",
        "\n",
        "def solution(my_string) :\n",
        "  your_string = []\n",
        "  for i in my_string :\n",
        "    if i.isupper() : your_string.append(i.lower())\n",
        "    elif i.islower() : your_string.append(i.upper())\n",
        "    else : your_string(i)\n",
        "  return ''.join(your_string)\n",
        "\n",
        "solution(\"cccCCC\")"
      ],
      "metadata": {
        "colab": {
          "base_uri": "https://localhost:8080/",
          "height": 35
        },
        "id": "nVYX46W3yZi8",
        "outputId": "e59be5ba-80fd-49a2-86d8-25c78f95f74c"
      },
      "execution_count": null,
      "outputs": [
        {
          "output_type": "execute_result",
          "data": {
            "text/plain": [
              "'CCCccc'"
            ],
            "application/vnd.google.colaboratory.intrinsic+json": {
              "type": "string"
            }
          },
          "metadata": {},
          "execution_count": 72
        }
      ]
    },
    {
      "cell_type": "code",
      "source": [
        "# 문자열 my_string과 정수 num1, num2가 매개변수로 주어질 때,\n",
        "# my_string에서 인덱스 num1과 인덱스 num2에 해당하는 문자를 바꾼 문자열을 return 하도록 solution 함수를 완성해보세요.\n",
        "# 다시풀기\n",
        "\n",
        "def solution(my_string, num1, num2) :\n",
        "  lst = list(my_string)\n",
        "  lst[num1], lst[num2] = lst[num2], lst[num1]\n",
        "  return ''.join(lst)\n",
        "\n",
        "solution(\"hello\",\t1,\t2)"
      ],
      "metadata": {
        "colab": {
          "base_uri": "https://localhost:8080/",
          "height": 35
        },
        "id": "_0vZlTaxzPSQ",
        "outputId": "888329a3-17f2-456e-9a81-e846d98aac50"
      },
      "execution_count": null,
      "outputs": [
        {
          "output_type": "execute_result",
          "data": {
            "text/plain": [
              "'hlelo'"
            ],
            "application/vnd.google.colaboratory.intrinsic+json": {
              "type": "string"
            }
          },
          "metadata": {},
          "execution_count": 75
        }
      ]
    },
    {
      "cell_type": "code",
      "source": [
        "# 정수 n이 매개변수로 주어질 때, n의 약수를 오름차순으로 담은 배열을 return하도록 solution 함수를 완성해주세요.\n",
        "\n",
        "def solution(n) :\n",
        "  yaksu = []\n",
        "  for i in range(1,n+1) :\n",
        "    if n % i == 0 : yaksu.append(i)\n",
        "  return sorted(yaksu)\n",
        "\n",
        "solution(24)\n"
      ],
      "metadata": {
        "colab": {
          "base_uri": "https://localhost:8080/"
        },
        "id": "Q9gvKOp_1AI5",
        "outputId": "18412c21-d200-4c52-ea9d-5df0e3aa4175"
      },
      "execution_count": null,
      "outputs": [
        {
          "output_type": "execute_result",
          "data": {
            "text/plain": [
              "[1, 2, 3, 4, 6, 8, 12, 24]"
            ]
          },
          "metadata": {},
          "execution_count": 76
        }
      ]
    },
    {
      "cell_type": "code",
      "source": [
        "# 정수 배열 array가 매개변수로 주어질 때, 가장 큰 수와 그 수의 인덱스를 담은 배열을 return 하도록 solution 함수를 완성해보세요.\n",
        "\n",
        "def solution(array) :\n",
        "  max_num = 0\n",
        "  max_array = 0\n",
        "  for i in range(0, len(array)) :\n",
        "    if array[i] > max_num :\n",
        "      max_num = array[i]\n",
        "      max_array = i\n",
        "  return [max_num, max_array]\n",
        "\n",
        "solution([9, 10, 11, 8])"
      ],
      "metadata": {
        "colab": {
          "base_uri": "https://localhost:8080/"
        },
        "id": "lOf-1uD913qx",
        "outputId": "24018962-c087-4fd1-b840-20aea2416274"
      },
      "execution_count": null,
      "outputs": [
        {
          "output_type": "execute_result",
          "data": {
            "text/plain": [
              "[11, 2]"
            ]
          },
          "metadata": {},
          "execution_count": 82
        }
      ]
    },
    {
      "cell_type": "code",
      "source": [
        "# 영어 대소문자로 이루어진 문자열 my_string이 매개변수로 주어질 때,\n",
        "# my_string을 모두 소문자로 바꾸고 알파벳 순서대로 정렬한 문자열을 return 하도록 solution 함수를 완성해보세요.\n",
        "\n",
        "def solution(my_string) :\n",
        "  low_str = my_string.lower()\n",
        "  return ''.join(sorted(low_str))\n",
        "\n",
        "solution(\"heLLo\")"
      ],
      "metadata": {
        "colab": {
          "base_uri": "https://localhost:8080/",
          "height": 35
        },
        "id": "t6kfWlHr2NTX",
        "outputId": "a16fcfe5-ada9-41e6-fd1e-88ee41f7a69a"
      },
      "execution_count": null,
      "outputs": [
        {
          "output_type": "execute_result",
          "data": {
            "text/plain": [
              "'ehllo'"
            ],
            "application/vnd.google.colaboratory.intrinsic+json": {
              "type": "string"
            }
          },
          "metadata": {},
          "execution_count": 84
        }
      ]
    },
    {
      "cell_type": "code",
      "source": [
        "# 정수 num과 k가 매개변수로 주어질 때,\n",
        "# num을 이루는 숫자 중에 k가 있으면 num의 그 숫자가 있는 자리 수를 return하고 없으면 -1을 return 하도록 solution 함수를 완성해보세요.\n",
        "# 다시풀기\n",
        "\n",
        "def solution(num, k) :\n",
        "  s = str(num)\n",
        "  target = str(k)\n",
        "  for i, ch in enumerate(s) :\n",
        "    if ch == target :\n",
        "      return i + 1\n",
        "  return -1\n",
        "\n",
        "solution(29183, 1)"
      ],
      "metadata": {
        "colab": {
          "base_uri": "https://localhost:8080/"
        },
        "id": "VJSPiYHf4EZG",
        "outputId": "c572769d-15ca-4f7e-e59f-f10b4ccc13f7"
      },
      "execution_count": null,
      "outputs": [
        {
          "output_type": "execute_result",
          "data": {
            "text/plain": [
              "3"
            ]
          },
          "metadata": {},
          "execution_count": 99
        }
      ]
    },
    {
      "cell_type": "code",
      "source": [
        "# 머쓱이네 피자가게는 피자를 여섯 조각으로 잘라 줍니다.\n",
        "# 피자를 나눠먹을 사람의 수 n이 매개변수로 주어질 때,\n",
        "# n명이 주문한 피자를 남기지 않고 모두 같은 수의 피자 조각을 먹어야 한다면 최소 몇 판을 시켜야 하는지를 return 하도록 solution 함수를 완성해보세요.\n",
        "\n",
        "def solution(n) :\n",
        "  pizza = 1\n",
        "  piece = pizza * 6\n",
        "  for i in range(1,100) :\n",
        "    if piece % n != 0 :\n",
        "      pizza += 1\n",
        "      piece = pizza * 6\n",
        "  return pizza\n",
        "\n",
        "solution(10)\n",
        "\n"
      ],
      "metadata": {
        "colab": {
          "base_uri": "https://localhost:8080/"
        },
        "id": "VUg6s7NR4mBN",
        "outputId": "8d83fb34-825d-413d-8256-b6e34d4d7c30"
      },
      "execution_count": null,
      "outputs": [
        {
          "output_type": "execute_result",
          "data": {
            "text/plain": [
              "5"
            ]
          },
          "metadata": {},
          "execution_count": 101
        }
      ]
    },
    {
      "cell_type": "code",
      "source": [
        "# 우주여행을 하던 머쓱이는 엔진 고장으로 PROGRAMMERS-962 행성에 불시착하게 됐습니다.\n",
        "# 입국심사에서 나이를 말해야 하는데, PROGRAMMERS-962 행성에서는 나이를 알파벳으로 말하고 있습니다.\n",
        "# a는 0, b는 1, c는 2, ..., j는 9입니다. 예를 들어 23살은 cd, 51살은 fb로 표현합니다.\n",
        "# 나이 age가 매개변수로 주어질 때 PROGRAMMER-962식 나이를 return하도록 solution 함수를 완성해주세요.\n",
        "\n",
        "def solution(age) :\n",
        "  age_str = []\n",
        "  age = str(age)\n",
        "  for i in range(0, len(age)) :\n",
        "    if age[i] == '0' : age_str.append('a')\n",
        "    elif age[i] == '1' : age_str.append('b')\n",
        "    elif age[i] == '2' : age_str.append('c')\n",
        "    elif age[i] == '3' : age_str.append('d')\n",
        "    elif age[i] == '4' : age_str.append('e')\n",
        "    elif age[i] == '5' : age_str.append('f')\n",
        "    elif age[i] == '6' : age_str.append('g')\n",
        "    elif age[i] == '7' : age_str.append('h')\n",
        "    elif age[i] == '8' : age_str.append('i')\n",
        "    elif age[i] == '9' : age_str.append('j')\n",
        "  return ''.join(age_str)\n",
        "\n",
        "solution(23)"
      ],
      "metadata": {
        "colab": {
          "base_uri": "https://localhost:8080/",
          "height": 35
        },
        "id": "CplfCqSV6ank",
        "outputId": "59acf385-ed09-486b-91f7-83c561ce194e"
      },
      "execution_count": null,
      "outputs": [
        {
          "output_type": "execute_result",
          "data": {
            "text/plain": [
              "'cd'"
            ],
            "application/vnd.google.colaboratory.intrinsic+json": {
              "type": "string"
            }
          },
          "metadata": {},
          "execution_count": 5
        }
      ]
    },
    {
      "cell_type": "code",
      "source": [
        "# 정수가 담긴 배열 numbers와 문자열 direction가 매개변수로 주어집니다.\n",
        "# 배열 numbers의 원소를 direction방향으로 한 칸씩 회전시킨 배열을 return하도록 solution 함수를 완성해주세요.\n",
        "\n",
        "def solution(numbers, direction) :\n",
        "  new_num = []\n",
        "  if direction == 'right' :\n",
        "    new_num.append(numbers[-1])\n",
        "    for i in range(0, len(numbers)-1) :\n",
        "      new_num.append(numbers[i])\n",
        "  elif direction == 'left' :\n",
        "    for i in range(1, len(numbers)) :\n",
        "      new_num.append(numbers[i])\n",
        "    new_num.append(numbers[0])\n",
        "  return new_num\n",
        "\n",
        "solution([4, 455, 6, 4, -1, 45, 6],\t\"left\")"
      ],
      "metadata": {
        "colab": {
          "base_uri": "https://localhost:8080/"
        },
        "id": "-h8hSys3XVHi",
        "outputId": "bd028013-7717-4a57-86ee-9fad08998840"
      },
      "execution_count": null,
      "outputs": [
        {
          "output_type": "execute_result",
          "data": {
            "text/plain": [
              "[455, 6, 4, -1, 45, 6, 4]"
            ]
          },
          "metadata": {},
          "execution_count": 7
        }
      ]
    },
    {
      "cell_type": "code",
      "source": [
        "# 머쓱이는 친구들과 369게임을 하고 있습니다. 369게임은 1부터 숫자를 하나씩 대며 3, 6, 9가 들어가는 숫자는 숫자 대신 3, 6, 9의 개수만큼 박수를 치는 게임입니다.\n",
        "# 머쓱이가 말해야하는 숫자 order가 매개변수로 주어질 때, 머쓱이가 쳐야할 박수 횟수를 return 하도록 solution 함수를 완성해보세요.\n",
        "\n",
        "def solution(order) :\n",
        "  order = str(order)\n",
        "  cnt = 0\n",
        "  for i in range(0, len(order)) :\n",
        "    if order[i] == '3' or order[i] == '6' or order[i] == '9' :\n",
        "      cnt += 1\n",
        "  return cnt\n",
        "\n",
        "solution(29423)"
      ],
      "metadata": {
        "colab": {
          "base_uri": "https://localhost:8080/"
        },
        "id": "Tvyp0fvRZBEA",
        "outputId": "c88f3a7b-1341-4bd3-8f0f-e1ebe717cc0e"
      },
      "execution_count": null,
      "outputs": [
        {
          "output_type": "execute_result",
          "data": {
            "text/plain": [
              "2"
            ]
          },
          "metadata": {},
          "execution_count": 10
        }
      ]
    },
    {
      "cell_type": "code",
      "source": [
        "# 약수의 개수가 세 개 이상인 수를 합성수라고 합니다. 자연수 n이 매개변수로 주어질 때 n이하의 합성수의 개수를 return하도록 solution 함수를 완성해주세요.\n",
        "# 다시풀기!!!!\n",
        "\n",
        "def solution(n) :\n",
        "  hap_cnt = 0\n",
        "  for i in range(1, n+1) :\n",
        "    hap = 0\n",
        "    for j in range(1, i+1) :\n",
        "      if i % j == 0 :\n",
        "        hap += 1\n",
        "      if hap >= 3 :\n",
        "        hap_cnt += 1\n",
        "        break\n",
        "  return hap_cnt\n",
        "\n",
        "solution(10)"
      ],
      "metadata": {
        "colab": {
          "base_uri": "https://localhost:8080/"
        },
        "id": "pdf7JILUZuQi",
        "outputId": "400384f3-b28f-46a0-8120-1a7e08df99da"
      },
      "execution_count": null,
      "outputs": [
        {
          "output_type": "execute_result",
          "data": {
            "text/plain": [
              "5"
            ]
          },
          "metadata": {},
          "execution_count": 24
        }
      ]
    },
    {
      "cell_type": "code",
      "source": [
        "# 문자열 my_string이 매개변수로 주어집니다. my_string에서 중복된 문자를 제거하고 하나의 문자만 남긴 문자열을 return하도록 solution 함수를 완성해주세요.\n",
        "# 다시풀기!!!\n",
        "\n",
        "def solution(my_string) :\n",
        "  new_string = []\n",
        "  for ch in my_string :\n",
        "    if ch in new_string :\n",
        "        continue\n",
        "    new_string.append(ch)\n",
        "  return ''.join(new_string)\n",
        "solution(\"people\")"
      ],
      "metadata": {
        "colab": {
          "base_uri": "https://localhost:8080/",
          "height": 35
        },
        "id": "nFe31s02ctL_",
        "outputId": "d31bcf80-b393-4f28-b0a8-6c71107badda"
      },
      "execution_count": null,
      "outputs": [
        {
          "output_type": "execute_result",
          "data": {
            "text/plain": [
              "'peol'"
            ],
            "application/vnd.google.colaboratory.intrinsic+json": {
              "type": "string"
            }
          },
          "metadata": {},
          "execution_count": 43
        }
      ]
    },
    {
      "cell_type": "code",
      "source": [],
      "metadata": {
        "id": "z-Pn2FK7fROX"
      },
      "execution_count": null,
      "outputs": []
    }
  ]
}