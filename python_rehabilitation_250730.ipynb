{
  "nbformat": 4,
  "nbformat_minor": 0,
  "metadata": {
    "colab": {
      "provenance": []
    },
    "kernelspec": {
      "name": "python3",
      "display_name": "Python 3"
    },
    "language_info": {
      "name": "python"
    }
  },
  "cells": [
    {
      "cell_type": "code",
      "execution_count": null,
      "metadata": {
        "colab": {
          "base_uri": "https://localhost:8080/"
        },
        "id": "ZKG35NcvnB56",
        "outputId": "9e4cdc98-a0ae-4dde-e38e-30fe47294b11"
      },
      "outputs": [
        {
          "output_type": "execute_result",
          "data": {
            "text/plain": [
              "[2, 2, 6, 50.0, 99, 49.0]"
            ]
          },
          "metadata": {},
          "execution_count": 2
        }
      ],
      "source": [
        "# 정수 배열 arr가 주어집니다. arr의 각 원소에 대해 값이 50보다 크거나 같은 짝수라면 2로 나누고, 50보다 작은 홀수라면 2를 곱합니다.\n",
        "# 그 결과인 정수 배열을 return 하는 solution 함수를 완성해 주세요.\n",
        "\n",
        "def solution(arr) :\n",
        "  answer = []\n",
        "  for i in range(0, len(arr)) :\n",
        "    if arr[i] >= 50 :\n",
        "      if arr[i] % 2 == 0 :\n",
        "        answer.append(arr[i]/2)\n",
        "      else : answer.append(arr[i])\n",
        "    if arr[i] < 50 :\n",
        "      if arr[i] % 2 == 1 :\n",
        "        answer.append(2*arr[i])\n",
        "      else : answer.append(arr[i])\n",
        "  return answer\n",
        "\n",
        "solution([1, 2, 3, 100, 99, 98])"
      ]
    },
    {
      "cell_type": "code",
      "source": [
        "# 문자열 letter가 매개변수로 주어질 때, letter를 영어 소문자로 바꾼 문자열을 return 하도록 solution 함수를 완성해보세요.\n",
        "# 모스부호는 다음과 같습니다.\n",
        "# 다시풀기\n",
        "\n",
        "def solution(letter) :\n",
        "  morse = {\n",
        "    '.-':'a','-...':'b','-.-.':'c','-..':'d','.':'e','..-.':'f',\n",
        "    '--.':'g','....':'h','..':'i','.---':'j','-.-':'k','.-..':'l',\n",
        "    '--':'m','-.':'n','---':'o','.--.':'p','--.-':'q','.-.':'r',\n",
        "    '...':'s','-':'t','..-':'u','...-':'v','.--':'w','-..-':'x',\n",
        "    '-.--':'y','--..':'z'\n",
        "  }\n",
        "  return ''.join([morse[code] for code in letter.split()])\n",
        "\n",
        "solution(\".... . .-.. .-.. ---\")"
      ],
      "metadata": {
        "colab": {
          "base_uri": "https://localhost:8080/",
          "height": 35
        },
        "id": "BOpCPw6LoCB0",
        "outputId": "a5c40778-a61c-453d-8a42-7ce7e3881091"
      },
      "execution_count": null,
      "outputs": [
        {
          "output_type": "execute_result",
          "data": {
            "text/plain": [
              "'hello'"
            ],
            "application/vnd.google.colaboratory.intrinsic+json": {
              "type": "string"
            }
          },
          "metadata": {},
          "execution_count": 9
        }
      ]
    },
    {
      "cell_type": "code",
      "source": [
        "# 정수 배열 num_list와 정수 n이 매개변수로 주어집니다. num_list를 다음 설명과 같이 2차원 배열로 바꿔 return하도록 solution 함수를 완성해주세요.\n",
        "# 다시풀기\n",
        "\n",
        "def solution(num_list, n) :\n",
        "  new_list = []\n",
        "  for i in range(0, len(num_list), n) :\n",
        "    new_list.append(num_list[i:i+n])\n",
        "  return new_list\n",
        "\n",
        "solution([1, 2, 3, 4, 5, 6, 7, 8],\t2)"
      ],
      "metadata": {
        "colab": {
          "base_uri": "https://localhost:8080/"
        },
        "id": "qMJFbFpJpoQ6",
        "outputId": "937bb7fe-dd37-4a3e-d596-5b11cba09f92"
      },
      "execution_count": null,
      "outputs": [
        {
          "output_type": "execute_result",
          "data": {
            "text/plain": [
              "[[1, 2], [3, 4], [5, 6], [7, 8]]"
            ]
          },
          "metadata": {},
          "execution_count": 21
        }
      ]
    },
    {
      "cell_type": "code",
      "source": [
        "# 문자열 before와 after가 매개변수로 주어질 때, before의 순서를 바꾸어 after를 만들 수 있으면 1을, 만들 수 없으면 0을 return 하도록 solution 함수를 완성해보세요.\n",
        "\n",
        "def solution(before, after) :\n",
        "  before = sorted(before)\n",
        "  after = sorted(after)\n",
        "  if before == after : return 1\n",
        "  else : return 0\n",
        "\n",
        "solution(\"allpe\",\t\"apple\")"
      ],
      "metadata": {
        "colab": {
          "base_uri": "https://localhost:8080/"
        },
        "id": "qGQeSPnorKpr",
        "outputId": "cd54d2bd-68fb-47a0-e335-7b63eee0590c"
      },
      "execution_count": null,
      "outputs": [
        {
          "output_type": "execute_result",
          "data": {
            "text/plain": [
              "0"
            ]
          },
          "metadata": {},
          "execution_count": 23
        }
      ]
    },
    {
      "cell_type": "code",
      "source": [
        "# 1부터 13까지의 수에서, 1은 1, 10, 11, 12, 13 이렇게 총 6번 등장합니다.\n",
        "# 정수 i, j, k가 매개변수로 주어질 때, i부터 j까지 k가 몇 번 등장하는지 return 하도록 solution 함수를 완성해주세요.\n",
        "# 다시풀기\n",
        "\n",
        "def solution(i, j, k) :\n",
        "  cnt = 0\n",
        "  k = str(k)\n",
        "  for a in range(i, j+1) :\n",
        "    cnt += str(a).count(k)\n",
        "  return cnt\n",
        "\n",
        "solution(1,\t13,\t1)"
      ],
      "metadata": {
        "colab": {
          "base_uri": "https://localhost:8080/"
        },
        "id": "uoptYDFltA-9",
        "outputId": "07dca1f5-3514-46a8-88de-f910c5bf2f3e"
      },
      "execution_count": null,
      "outputs": [
        {
          "output_type": "execute_result",
          "data": {
            "text/plain": [
              "6"
            ]
          },
          "metadata": {},
          "execution_count": 39
        }
      ]
    },
    {
      "cell_type": "code",
      "source": [
        "# 문자열 s가 매개변수로 주어집니다. s에서 한 번만 등장하는 문자를 사전 순으로 정렬한 문자열을 return 하도록 solution 함수를 완성해보세요.\n",
        "# 한 번만 등장하는 문자가 없을 경우 빈 문자열을 return 합니다.\n",
        "# 다시풀기\n",
        "\n",
        "def solution(s) :\n",
        "  result = [ch for ch in s if s.count(ch) == 1]\n",
        "  result = sorted(result)\n",
        "  return ''.join(result)\n",
        "\n",
        "solution(\"abcabcadc\")"
      ],
      "metadata": {
        "colab": {
          "base_uri": "https://localhost:8080/",
          "height": 35
        },
        "id": "71AYKKPPt6kD",
        "outputId": "2c447f37-f3d1-491e-9d20-beb829a6d1ee"
      },
      "execution_count": null,
      "outputs": [
        {
          "output_type": "execute_result",
          "data": {
            "text/plain": [
              "'d'"
            ],
            "application/vnd.google.colaboratory.intrinsic+json": {
              "type": "string"
            }
          },
          "metadata": {},
          "execution_count": 40
        }
      ]
    },
    {
      "cell_type": "code",
      "source": [
        "# 문자열 my_string이 매개변수로 주어집니다.\n",
        "# my_string은 소문자, 대문자, 자연수로만 구성되어있습니다.\n",
        "# my_string안의 자연수들의 합을 return하도록 solution 함수를 완성해주세요.\n",
        "# 다시풀기\n",
        "\n",
        "def solution(my_string):\n",
        "    total = 0\n",
        "    num_str = ''\n",
        "\n",
        "    for ch in my_string:\n",
        "        if ch.isdigit():\n",
        "            num_str += ch\n",
        "        else:\n",
        "            if num_str != '':\n",
        "                total += int(num_str)\n",
        "                num_str = ''\n",
        "\n",
        "    # 마지막에 숫자로 끝났을 경우 처리\n",
        "    if num_str != '':\n",
        "        total += int(num_str)\n",
        "\n",
        "    return total\n",
        "\n",
        "solution(\"aAb1B2cC34oOp\")\n"
      ],
      "metadata": {
        "colab": {
          "base_uri": "https://localhost:8080/"
        },
        "id": "-RRuTLuDxb1T",
        "outputId": "b2875b59-8a6e-431d-bb1f-743b99609ba5"
      },
      "execution_count": null,
      "outputs": [
        {
          "output_type": "execute_result",
          "data": {
            "text/plain": [
              "37"
            ]
          },
          "metadata": {},
          "execution_count": 48
        }
      ]
    },
    {
      "cell_type": "code",
      "source": [
        "# 외과의사 머쓱이는 응급실에 온 환자의 응급도를 기준으로 진료 순서를 정하려고 합니다.\n",
        "# 정수 배열 emergency가 매개변수로 주어질 때 응급도가 높은 순서대로 진료 순서를 정한 배열을 return하도록 solution 함수를 완성해주세요.\n",
        "# 다시풀기\n",
        "\n",
        "def solution(emergency) :\n",
        "  sort_er = sorted(emergency, reverse = True)\n",
        "  return [sort_er.index(x) +1 for x in emergency]\n",
        "\n",
        "\n",
        "solution([3, 76, 24])"
      ],
      "metadata": {
        "colab": {
          "base_uri": "https://localhost:8080/"
        },
        "id": "aCsmORCzx-li",
        "outputId": "0a8dc150-9949-4040-ca9c-ff80bdd95013"
      },
      "execution_count": null,
      "outputs": [
        {
          "output_type": "execute_result",
          "data": {
            "text/plain": [
              "[3, 1, 2]"
            ]
          },
          "metadata": {},
          "execution_count": 59
        }
      ]
    },
    {
      "cell_type": "code",
      "source": [
        "# i팩토리얼 (i!)은 1부터 i까지 정수의 곱을 의미합니다. 예를들어 5! = 5 * 4 * 3 * 2 * 1 = 120 입니다.\n",
        "# 정수 n이 주어질 때 다음 조건을 만족하는 가장 큰 정수 i를 return 하도록 solution 함수를 완성해주세요.\n",
        "# 다시풀기\n",
        "\n",
        "def solution(n) :\n",
        "  answer = 1\n",
        "  for i in range(1, 11) :\n",
        "    answer *= i\n",
        "    if answer > n : return i -1\n",
        "  return 10\n",
        "\n",
        "solution(3628800)"
      ],
      "metadata": {
        "colab": {
          "base_uri": "https://localhost:8080/"
        },
        "id": "ghLkHh9n1OLF",
        "outputId": "d948004d-8acb-48d6-d13a-1e6a36ff6295"
      },
      "execution_count": null,
      "outputs": [
        {
          "output_type": "execute_result",
          "data": {
            "text/plain": [
              "10"
            ]
          },
          "metadata": {},
          "execution_count": 83
        }
      ]
    },
    {
      "cell_type": "code",
      "source": [],
      "metadata": {
        "id": "7-igAQJH3-BV"
      },
      "execution_count": null,
      "outputs": []
    }
  ]
}