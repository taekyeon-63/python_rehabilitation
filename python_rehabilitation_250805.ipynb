{
  "nbformat": 4,
  "nbformat_minor": 0,
  "metadata": {
    "colab": {
      "provenance": []
    },
    "kernelspec": {
      "name": "python3",
      "display_name": "Python 3"
    },
    "language_info": {
      "name": "python"
    }
  },
  "cells": [
    {
      "cell_type": "code",
      "execution_count": null,
      "metadata": {
        "colab": {
          "base_uri": "https://localhost:8080/"
        },
        "id": "sbrK1Lf0fZdT",
        "outputId": "1c2199d6-d24f-4d73-e347-38bcfdca5e25"
      },
      "outputs": [
        {
          "output_type": "execute_result",
          "data": {
            "text/plain": [
              "139"
            ]
          },
          "metadata": {},
          "execution_count": 2
        }
      ],
      "source": [
        "# 정수 배열 numbers와 정수 n이 매개변수로 주어집니다.\n",
        "# numbers의 원소를 앞에서부터 하나씩 더하다가 그 합이 n보다 커지는 순간 이때까지 더했던 원소들의 합을 return 하는 solution 함수를 작성해 주세요.\n",
        "\n",
        "def solution(numbers, n) :\n",
        "  sum = 0\n",
        "  for i in range(0, len(numbers)) :\n",
        "    if sum > n : sum = sum\n",
        "    else : sum += numbers[i]\n",
        "  return sum\n",
        "\n",
        "solution([34, 5, 71, 29, 100, 34],\t123)"
      ]
    },
    {
      "cell_type": "code",
      "source": [
        "# 최대 5명씩 탑승가능한 놀이기구를 타기 위해 줄을 서있는 사람들의 이름이 담긴 문자열 리스트 names가 주어질 때,\n",
        "# 앞에서 부터 5명씩 묶은 그룹의 가장 앞에 서있는 사람들의 이름을 담은 리스트를 return하도록 solution 함수를 완성해주세요.\n",
        "# 마지막 그룹이 5명이 되지 않더라도 가장 앞에 있는 사람의 이름을 포함합니다.\n",
        "\n",
        "def solution(names) :\n",
        "  return names[::5]\n",
        "\n",
        "solution([\"nami\", \"ahri\", \"jayce\", \"garen\", \"ivern\", \"vex\", \"jinx\"])"
      ],
      "metadata": {
        "colab": {
          "base_uri": "https://localhost:8080/"
        },
        "id": "sTQZr-Z_f8He",
        "outputId": "2673a266-cc2c-4a25-aaec-2ddf99967c71"
      },
      "execution_count": null,
      "outputs": [
        {
          "output_type": "execute_result",
          "data": {
            "text/plain": [
              "['nami', 'vex']"
            ]
          },
          "metadata": {},
          "execution_count": 3
        }
      ]
    },
    {
      "cell_type": "code",
      "source": [
        "# 정수 리스트 num_list와 정수 n이 주어질 때,\n",
        "# num_list를 n 번째 원소 이후의 원소들과 n 번째까지의 원소들로 나눠 n 번째 원소 이후의 원소들을 n 번째까지의 원소들 앞에 붙인 리스트를 return하도록 solution 함수를 완성해주세요.\n",
        "\n",
        "def solution(num_list, n) :\n",
        "  a = num_list[n::]\n",
        "  for i in range(0,n) :\n",
        "    a.append(num_list[i])\n",
        "  return a\n",
        "\n",
        "solution([2, 1, 6],\t1)"
      ],
      "metadata": {
        "colab": {
          "base_uri": "https://localhost:8080/"
        },
        "id": "_6W1ZMflhNd9",
        "outputId": "280bebe5-0b94-4663-d50e-cccdaa16aef5"
      },
      "execution_count": null,
      "outputs": [
        {
          "output_type": "execute_result",
          "data": {
            "text/plain": [
              "[1, 6, 2]"
            ]
          },
          "metadata": {},
          "execution_count": 10
        }
      ]
    },
    {
      "cell_type": "code",
      "source": [
        "# 정수 start_num와 end_num가 주어질 때, start_num에서 end_num까지 1씩 감소하는 수들을 차례로 담은 리스트를 return하도록 solution 함수를 완성해주세요.\n",
        "\n",
        "def solution(start_num, end_num) :\n",
        "  a = []\n",
        "  for i in range(start_num, end_num-1, -1) :\n",
        "    a.append(i)\n",
        "  return a\n",
        "\n",
        "solution(10,3)"
      ],
      "metadata": {
        "colab": {
          "base_uri": "https://localhost:8080/"
        },
        "id": "eVnNzW02hsxd",
        "outputId": "a86cee0f-7dea-4029-d03c-5c94a5ea324d"
      },
      "execution_count": null,
      "outputs": [
        {
          "output_type": "execute_result",
          "data": {
            "text/plain": [
              "[10, 9, 8, 7, 6, 5, 4, 3]"
            ]
          },
          "metadata": {},
          "execution_count": 13
        }
      ]
    },
    {
      "cell_type": "code",
      "source": [
        "# 정수 n과 k가 주어졌을 때, 1 이상 n 이하의 정수 중에서 k의 배수를 오름차순으로 저장한 배열을 return 하는 solution 함수를 완성해 주세요.\n",
        "\n",
        "def solution(n, k) :\n",
        "  a = []\n",
        "  for i in range(1, n+1) :\n",
        "    if i % k == 0 :\n",
        "      a.append(i)\n",
        "  return a\n",
        "\n",
        "solution(10,\t3)"
      ],
      "metadata": {
        "colab": {
          "base_uri": "https://localhost:8080/"
        },
        "id": "7xzBRmehiqtv",
        "outputId": "e3720f6f-55b9-446c-e87f-fbd4dfdf5939"
      },
      "execution_count": null,
      "outputs": [
        {
          "output_type": "execute_result",
          "data": {
            "text/plain": [
              "[3, 6, 9]"
            ]
          },
          "metadata": {},
          "execution_count": 16
        }
      ]
    },
    {
      "cell_type": "code",
      "source": [
        "# 정수 배열 array와 정수 n이 매개변수로 주어질 때, array에 들어있는 정수 중 n과 가장 가까운 수를 return 하도록 solution 함수를 완성해주세요\n",
        "# 다시 풀기\n",
        "\n",
        "def solution(array, n):\n",
        "    min_diff = 100\n",
        "    a = 100\n",
        "    for i in range(len(array)):\n",
        "        current_diff = abs(array[i] - n)\n",
        "        if current_diff < min_diff:\n",
        "            min_diff = current_diff\n",
        "            a = array[i]\n",
        "        elif current_diff == min_diff:\n",
        "            if array[i] < a:  # 더 작은 수를 선택\n",
        "                a = array[i]\n",
        "    return a\n",
        "\n",
        "solution([3, 10, 28],\t20)"
      ],
      "metadata": {
        "id": "0zPoFj8ykrJ2",
        "colab": {
          "base_uri": "https://localhost:8080/"
        },
        "outputId": "c1686950-ad00-4390-8fdc-d654de806d9c"
      },
      "execution_count": null,
      "outputs": [
        {
          "output_type": "execute_result",
          "data": {
            "text/plain": [
              "28"
            ]
          },
          "metadata": {},
          "execution_count": 4
        }
      ]
    },
    {
      "cell_type": "code",
      "source": [],
      "metadata": {
        "id": "5SXC8Shw8OyR"
      },
      "execution_count": null,
      "outputs": []
    }
  ]
}