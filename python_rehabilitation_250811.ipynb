{
  "nbformat": 4,
  "nbformat_minor": 0,
  "metadata": {
    "colab": {
      "provenance": []
    },
    "kernelspec": {
      "name": "python3",
      "display_name": "Python 3"
    },
    "language_info": {
      "name": "python"
    }
  },
  "cells": [
    {
      "cell_type": "code",
      "execution_count": null,
      "metadata": {
        "colab": {
          "base_uri": "https://localhost:8080/"
        },
        "id": "iF7oCjmBGdcu",
        "outputId": "0eea11b9-0ebb-4d0d-f045-a2df2605c6bb"
      },
      "outputs": [
        {
          "output_type": "execute_result",
          "data": {
            "text/plain": [
              "1"
            ]
          },
          "metadata": {},
          "execution_count": 2
        }
      ],
      "source": [
        "# 어떤 문자열에 대해서 접두사는 특정 인덱스까지의 문자열을 의미합니다. 예를 들어, \"banana\"의 모든 접두사는 \"b\", \"ba\", \"ban\", \"bana\", \"banan\", \"banana\"입니다.\n",
        "# 문자열 my_string과 is_prefix가 주어질 때, is_prefix가 my_string의 접두사라면 1을, 아니면 0을 return 하는 solution 함수를 작성해 주세요.\n",
        "\n",
        "def solution(my_string, is_prefix) :\n",
        "  prefix = []\n",
        "  for i in range(1, len(is_prefix)+1) :\n",
        "    prefix.append(my_string[:i])\n",
        "  for j in range(0, len(prefix)) :\n",
        "    if prefix[j] == is_prefix :\n",
        "      return 1\n",
        "  return 0\n",
        "\n",
        "solution(\"banana\",\t\"ban\")"
      ]
    },
    {
      "cell_type": "code",
      "source": [
        "# 머쓱이는 행운의 숫자 7을 가장 좋아합니다. 정수 배열 array가 매개변수로 주어질 때, 7이 총 몇 개 있는지 return 하도록 solution 함수를 완성해보세요.\n",
        "\n",
        "def solution(array) :\n",
        "  luk = ''\n",
        "  sum = 0\n",
        "  for i in range(0, len(array)) :\n",
        "    luk += str(array[i])\n",
        "  for i in range(0, len(luk)) :\n",
        "    if luk[i] == '7' :\n",
        "      sum += 1\n",
        "  return sum\n",
        "\n",
        "solution([7, 77, 17])"
      ],
      "metadata": {
        "colab": {
          "base_uri": "https://localhost:8080/"
        },
        "id": "v3NSuCNmHv8u",
        "outputId": "3d8a38e3-6a2d-4d47-bacf-81d1afee483f"
      },
      "execution_count": null,
      "outputs": [
        {
          "output_type": "execute_result",
          "data": {
            "text/plain": [
              "4"
            ]
          },
          "metadata": {},
          "execution_count": 13
        }
      ]
    },
    {
      "cell_type": "code",
      "source": [
        "# 숫자와 \"Z\"가 공백으로 구분되어 담긴 문자열이 주어집니다. 문자열에 있는 숫자를 차례대로 더하려고 합니다.\n",
        "# 이 때 \"Z\"가 나오면 바로 전에 더했던 숫자를 뺀다는 뜻입니다. 숫자와 \"Z\"로 이루어진 문자열 s가 주어질 때, 머쓱이가 구한 값을 return 하도록 solution 함수를 완성해보세요.\n",
        "\n",
        "def solution(s) :\n",
        "  sen = s.split()\n",
        "  sum = 0\n",
        "  for i in range(0, len(sen)) :\n",
        "    if sen[i] == 'Z' :\n",
        "      sum -= int(sen[i-1])\n",
        "    else :\n",
        "      sum += int(sen[i])\n",
        "  return sum\n",
        "\n",
        "solution(\"1 2 Z 3\")"
      ],
      "metadata": {
        "colab": {
          "base_uri": "https://localhost:8080/"
        },
        "id": "wkz4_TODIN8E",
        "outputId": "e798a97b-6802-49c0-a9e6-3b3c3a7ef9ba"
      },
      "execution_count": null,
      "outputs": [
        {
          "output_type": "execute_result",
          "data": {
            "text/plain": [
              "4"
            ]
          },
          "metadata": {},
          "execution_count": 18
        }
      ]
    },
    {
      "cell_type": "code",
      "source": [
        "# 문자열 my_str과 n이 매개변수로 주어질 때, my_str을 길이 n씩 잘라서 저장한 배열을 return하도록 solution 함수를 완성해주세요.\n",
        "# 다시풀기\n",
        "\n",
        "def solution(my_str, n) :\n",
        "  mystr = []\n",
        "  sum = ''\n",
        "  for i in range(0, len(my_str)) :\n",
        "    sum += str(my_str[i])\n",
        "    if (i+1) % n == 0 :\n",
        "      mystr.append(sum)\n",
        "      sum = ''\n",
        "  if sum :\n",
        "    mystr.append(sum)\n",
        "  return mystr\n",
        "\n",
        "solution(\"abc1Addfggg4556b\", 6)"
      ],
      "metadata": {
        "colab": {
          "base_uri": "https://localhost:8080/"
        },
        "id": "0AfO5ShgJ_y_",
        "outputId": "c14dc6e6-fae8-4090-bf44-964eee69399c"
      },
      "execution_count": null,
      "outputs": [
        {
          "output_type": "execute_result",
          "data": {
            "text/plain": [
              "['abc1Ad', 'dfggg4', '556b']"
            ]
          },
          "metadata": {},
          "execution_count": 26
        }
      ]
    },
    {
      "cell_type": "code",
      "source": [
        "# 소인수분해란 어떤 수를 소수들의 곱으로 표현하는 것입니다. 예를 들어 12를 소인수 분해하면 2 * 2 * 3 으로 나타낼 수 있습니다.\n",
        "# 따라서 12의 소인수는 2와 3입니다. 자연수 n이 매개변수로 주어질 때 n의 소인수를 오름차순으로 담은 배열을 return하도록 solution 함수를 완성해주세요.\n",
        "# 다시 풀기\n",
        "# is_prime\n",
        "\n",
        "def solution(n):\n",
        "    answer_1 = []\n",
        "    answer_2 = []\n",
        "\n",
        "    # n의 약수를 구한다.\n",
        "    for i in range(2, int(n / 2) + 1):\n",
        "        if n % i == 0:\n",
        "            answer_1.append(i)\n",
        "\n",
        "    # 약수 중에서 소수만 추출한다.\n",
        "    for num in answer_1:\n",
        "        is_prime = True\n",
        "        for i in range(2, int(num ** 0.5) + 1):  # 소수 여부 확인\n",
        "            if num % i == 0:\n",
        "                is_prime = False\n",
        "                break\n",
        "        if is_prime:\n",
        "            answer_2.append(num)\n",
        "\n",
        "    if answer_2 == [] :\n",
        "      answer_2.append(n)\n",
        "\n",
        "    return answer_2\n",
        "\n",
        "solution(17)"
      ],
      "metadata": {
        "colab": {
          "base_uri": "https://localhost:8080/"
        },
        "id": "iz6PyyoPLmmN",
        "outputId": "1fd1018e-3c67-4d8e-ea2e-9e462a41c103"
      },
      "execution_count": null,
      "outputs": [
        {
          "output_type": "execute_result",
          "data": {
            "text/plain": [
              "[17]"
            ]
          },
          "metadata": {},
          "execution_count": 43
        }
      ]
    },
    {
      "cell_type": "code",
      "source": [
        "# 이진수를 의미하는 두 개의 문자열 bin1과 bin2가 매개변수로 주어질 때, 두 이진수의 합을 return하도록 solution 함수를 완성해주세요.\n",
        "# 다시 풀기\n",
        "\n",
        "def solution(bin1, bin2) :\n",
        "  answer = int(bin1, 2) + int(bin2, 2)\n",
        "  return bin(answer)[2:]\n",
        "\n",
        "solution(\"10\",\t\"11\")"
      ],
      "metadata": {
        "colab": {
          "base_uri": "https://localhost:8080/",
          "height": 35
        },
        "id": "xZm80BJtM6_o",
        "outputId": "fb83b98f-2688-4076-9509-58e92a2eb03c"
      },
      "execution_count": null,
      "outputs": [
        {
          "output_type": "execute_result",
          "data": {
            "text/plain": [
              "'101'"
            ],
            "application/vnd.google.colaboratory.intrinsic+json": {
              "type": "string"
            }
          },
          "metadata": {},
          "execution_count": 52
        }
      ]
    },
    {
      "cell_type": "code",
      "source": [],
      "metadata": {
        "id": "gi5yUTOJPpt2"
      },
      "execution_count": null,
      "outputs": []
    }
  ]
}