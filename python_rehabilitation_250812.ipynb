{
  "nbformat": 4,
  "nbformat_minor": 0,
  "metadata": {
    "colab": {
      "provenance": []
    },
    "kernelspec": {
      "name": "python3",
      "display_name": "Python 3"
    },
    "language_info": {
      "name": "python"
    }
  },
  "cells": [
    {
      "cell_type": "code",
      "execution_count": null,
      "metadata": {
        "colab": {
          "base_uri": "https://localhost:8080/"
        },
        "id": "N63qLusrLwmi",
        "outputId": "4c48bde5-1511-45d7-fb5a-be9a2575f48c"
      },
      "outputs": [
        {
          "output_type": "execute_result",
          "data": {
            "text/plain": [
              "7"
            ]
          },
          "metadata": {},
          "execution_count": 7
        }
      ],
      "source": [
        "# my_string은 \"3 + 5\"처럼 문자열로 된 수식입니다. 문자열 my_string이 매개변수로 주어질 때, 수식을 계산한 값을 return 하는 solution 함수를 완성해주세요.\n",
        "# 다시풀기 (함수 익히기)\n",
        "\n",
        "def solution(my_string) :\n",
        "  return eval(my_string)\n",
        "\n",
        "solution(\"3 + 4\")"
      ]
    },
    {
      "cell_type": "code",
      "source": [
        "# 머쓱이는 친구들과 동그랗게 서서 공 던지기 게임을 하고 있습니다. 공은 1번부터 던지며 오른쪽으로 한 명을 건너뛰고 그다음 사람에게만 던질 수 있습니다.\n",
        "# 친구들의 번호가 들어있는 정수 배열 numbers와 정수 K가 주어질 때, k번째로 공을 던지는 사람의 번호는 무엇인지 return 하도록 solution 함수를 완성해보세요.\n",
        "\n",
        "def solution(numbers, k) :\n",
        "  a = (2*(k - 1))\n",
        "  if a > len(numbers) :\n",
        "    a = (2*(k - 1)) % len(numbers)\n",
        "  return numbers[a]\n",
        "\n",
        "solution([1, 2, 3, 4, 5, 6],\t5)"
      ],
      "metadata": {
        "colab": {
          "base_uri": "https://localhost:8080/"
        },
        "id": "m0XbaSiQMeG8",
        "outputId": "ddf074b7-87fc-4d39-ece0-5bf41335d08c"
      },
      "execution_count": null,
      "outputs": [
        {
          "output_type": "execute_result",
          "data": {
            "text/plain": [
              "3"
            ]
          },
          "metadata": {},
          "execution_count": 13
        }
      ]
    },
    {
      "cell_type": "code",
      "source": [
        "# 영어가 싫은 머쓱이는 영어로 표기되어있는 숫자를 수로 바꾸려고 합니다. 문자열 numbers가 매개변수로 주어질 때, numbers를 정수로 바꿔 return 하도록 solution 함수를 완성해 주세요.\n",
        "# 다시풀기\n",
        "\n",
        "def solution(numbers) :\n",
        "  num_dict = {'one' : '1', 'two' : '2', 'three' : '3', 'four' : '4', 'five' : '5', 'six' : '6', 'seven' : '7', 'eight' : '8', 'nine' : '9', 'zero' : '0'}\n",
        "\n",
        "  for num, digit in num_dict.items() :\n",
        "    numbers = numbers.replace(num, digit)\n",
        "  return int(numbers)\n",
        "\n",
        "solution(\"onetwothreefourfivesixseveneightnine\")"
      ],
      "metadata": {
        "colab": {
          "base_uri": "https://localhost:8080/"
        },
        "id": "-6j5tVX2O2ol",
        "outputId": "35a177b5-c455-4bf9-aa06-d8965bfae966"
      },
      "execution_count": null,
      "outputs": [
        {
          "output_type": "execute_result",
          "data": {
            "text/plain": [
              "123456789"
            ]
          },
          "metadata": {},
          "execution_count": 17
        }
      ]
    },
    {
      "cell_type": "code",
      "source": [
        "# 머쓱이는 구슬을 친구들에게 나누어주려고 합니다. 구슬은 모두 다르게 생겼습니다.\n",
        "# 머쓱이가 갖고 있는 구슬의 개수 balls와 친구들에게 나누어 줄 구슬 개수 share이 매개변수로 주어질 때, balls개의 구슬 중 share개의 구슬을 고르는 가능한 모든 경우의 수를 return 하는 solution 함수를 완성해주세요.\n",
        "\n",
        "def solution(balls, share) :\n",
        "  sum = 1\n",
        "  div = 1\n",
        "  for i in range(0, share) :\n",
        "    sum *= (balls - i)\n",
        "  for j in range(0, share-1) :\n",
        "    div *= (2 + j)\n",
        "  return int(sum / div)\n",
        "\n",
        "solution(3,2)"
      ],
      "metadata": {
        "colab": {
          "base_uri": "https://localhost:8080/"
        },
        "id": "DzCKPzP6Q2oR",
        "outputId": "4d67c563-2c1b-49d8-c69b-3a10ea421b45"
      },
      "execution_count": null,
      "outputs": [
        {
          "output_type": "execute_result",
          "data": {
            "text/plain": [
              "3"
            ]
          },
          "metadata": {},
          "execution_count": 23
        }
      ]
    },
    {
      "cell_type": "code",
      "source": [
        "# 삼각형의 두 변의 길이가 담긴 배열 sides이 매개변수로 주어집니다. 나머지 한 변이 될 수 있는 정수의 개수를 return하도록 solution 함수를 완성해주세요.\n",
        "# 다시풀기\n",
        "\n",
        "def solution(sides) :\n",
        "  a, b = sides\n",
        "  return (a + b - 1) - (max(a, b) - min(a, b) + 1) + 1\n",
        "\n",
        "solution([11, 7])"
      ],
      "metadata": {
        "colab": {
          "base_uri": "https://localhost:8080/"
        },
        "id": "9z-RhhVzSDIF",
        "outputId": "cbc809e9-172c-4983-e05b-5477b22a4078"
      },
      "execution_count": null,
      "outputs": [
        {
          "output_type": "execute_result",
          "data": {
            "text/plain": [
              "13"
            ]
          },
          "metadata": {},
          "execution_count": 37
        }
      ]
    },
    {
      "cell_type": "code",
      "source": [
        "# 머쓱이는 RPG게임을 하고 있습니다. 게임에는 up, down, left, right 방향키가 있으며 각 키를 누르면 위, 아래, 왼쪽, 오른쪽으로 한 칸씩 이동합니다.\n",
        "# 예를 들어 [0,0]에서 up을 누른다면 캐릭터의 좌표는 [0, 1], down을 누른다면 [0, -1], left를 누른다면 [-1, 0], right를 누른다면 [1, 0]입니다.\n",
        "# 머쓱이가 입력한 방향키의 배열 keyinput와 맵의 크기 board이 매개변수로 주어집니다. 캐릭터는 항상 [0,0]에서 시작할 때 키 입력이 모두 끝난 뒤에 캐릭터의 좌표 [x, y]를 return하도록 solution 함수를 완성해주세요.\n",
        "\n",
        "def solution(keyinput, board):\n",
        "  move = [0,0]\n",
        "  (board[0]-1)/2\n",
        "  for i in range(0, len(keyinput)) :\n",
        "    if keyinput[i] == 'left' :\n",
        "      move[0] -= 1\n",
        "      if move[0] < -(board[0]-1)/2 : move[0] += 1\n",
        "    elif keyinput[i] == 'right' :\n",
        "      move[0] += 1\n",
        "      if move[0] > (board[0]-1)/2 : move[0] -= 1\n",
        "    elif keyinput[i] == 'down' :\n",
        "      move[1] -= 1\n",
        "      if move[1] < -(board[1]-1)/2 : move[1] += 1\n",
        "    elif keyinput[i] == 'up' :\n",
        "      move[1] += 1\n",
        "      if move[1] > (board[1]-1)/2 : move[1] -= 1\n",
        "  return move\n",
        "\n",
        "solution([\"left\", \"right\", \"up\", \"right\", \"right\"], [11,11])"
      ],
      "metadata": {
        "colab": {
          "base_uri": "https://localhost:8080/"
        },
        "id": "YPYC_IKHS_c-",
        "outputId": "36aebb14-9f3c-4019-bd0a-14f4c76c0345"
      },
      "execution_count": null,
      "outputs": [
        {
          "output_type": "execute_result",
          "data": {
            "text/plain": [
              "[2, 1]"
            ]
          },
          "metadata": {},
          "execution_count": 39
        }
      ]
    },
    {
      "cell_type": "code",
      "source": [],
      "metadata": {
        "id": "hIdlGq3VVx99"
      },
      "execution_count": null,
      "outputs": []
    }
  ]
}