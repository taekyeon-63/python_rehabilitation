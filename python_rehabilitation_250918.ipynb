{
 "cells": [
  {
   "cell_type": "code",
   "execution_count": 7,
   "id": "b33784e3-6183-48b9-8363-c0b10e5726f3",
   "metadata": {},
   "outputs": [
    {
     "data": {
      "text/plain": [
       "6"
      ]
     },
     "execution_count": 7,
     "metadata": {},
     "output_type": "execute_result"
    }
   ],
   "source": [
    "# 자연수 N이 주어지면, N의 각 자릿수의 합을 구해서 return 하는 solution 함수를 만들어 주세요.\n",
    "# 예를들어 N = 123이면 1 + 2 + 3 = 6을 return 하면 됩니다.\n",
    "\n",
    "def solution(n):\n",
    "    nn = str(n)\n",
    "    answer = 0\n",
    "    for i in range(0, len(nn)) :\n",
    "        answer += int(nn[i])\n",
    "    return answer\n",
    "\n",
    "solution(123)"
   ]
  },
  {
   "cell_type": "code",
   "execution_count": 15,
   "id": "5ad344e8-8e87-4b71-b8b1-d9adb46dea98",
   "metadata": {},
   "outputs": [
    {
     "data": {
      "text/plain": [
       "[5, 4, 3, 2, 1]"
      ]
     },
     "execution_count": 15,
     "metadata": {},
     "output_type": "execute_result"
    }
   ],
   "source": [
    "# 다시풀기\n",
    "\n",
    "# 자연수 n을 뒤집어 각 자리 숫자를 원소로 가지는 배열 형태로 리턴해주세요. 예를들어 n이 12345이면 [5,4,3,2,1]을 리턴합니다.\n",
    "\n",
    "def solution(n):\n",
    "    nn = str(n)\n",
    "    answer = []\n",
    "    for i in range(0, len(nn)) :\n",
    "        answer.insert(0, int(nn[i]))\n",
    "    return answer\n",
    "\n",
    "solution(12345)"
   ]
  },
  {
   "cell_type": "code",
   "execution_count": 21,
   "id": "6c0e5d1a-6791-4a5c-a1b6-660aefcda95d",
   "metadata": {},
   "outputs": [
    {
     "data": {
      "text/plain": [
       "'Odd'"
      ]
     },
     "execution_count": 21,
     "metadata": {},
     "output_type": "execute_result"
    }
   ],
   "source": [
    "# 정수 num이 짝수일 경우 \"Even\"을 반환하고 홀수인 경우 \"Odd\"를 반환하는 함수, solution을 완성해주세요.\n",
    "\n",
    "def solution(n) :\n",
    "    if n % 2 == 1 :\n",
    "        return 'Odd'\n",
    "    if n % 2 == 0 : \n",
    "        return 'Even'\n",
    "\n",
    "solution(5)"
   ]
  },
  {
   "cell_type": "code",
   "execution_count": 22,
   "id": "7c87cccd-9862-447d-9fb7-314a5f27991e",
   "metadata": {},
   "outputs": [
    {
     "data": {
      "text/plain": [
       "2.5"
      ]
     },
     "execution_count": 22,
     "metadata": {},
     "output_type": "execute_result"
    }
   ],
   "source": [
    "# 정수를 담고 있는 배열 arr의 평균값을 return하는 함수, solution을 완성해보세요.\n",
    "\n",
    "def solution(n) :\n",
    "    sum = 0\n",
    "    for i in range(0, len(n)) :\n",
    "        sum += n[i]\n",
    "    return sum/len(n)\n",
    "\n",
    "solution([1,2,3,4])"
   ]
  },
  {
   "cell_type": "code",
   "execution_count": 23,
   "id": "22bdff98-c610-4db0-9951-bf9e68f2fe4e",
   "metadata": {},
   "outputs": [
    {
     "data": {
      "text/plain": [
       "[2, 4, 6, 8, 10]"
      ]
     },
     "execution_count": 23,
     "metadata": {},
     "output_type": "execute_result"
    }
   ],
   "source": [
    "# 함수 solution은 정수 x와 자연수 n을 입력 받아, x부터 시작해 x씩 증가하는 숫자를 n개 지니는 리스트를 리턴해야 합니다.\n",
    "# 다음 제한 조건을 보고, 조건을 만족하는 함수, solution을 완성해주세요.\n",
    "\n",
    "def solution(x, n) : \n",
    "    answer = []\n",
    "    for i in range(0, n) :\n",
    "        answer.append(x*(i+1))\n",
    "    return answer\n",
    "\n",
    "solution(2,5)"
   ]
  },
  {
   "cell_type": "code",
   "execution_count": 25,
   "id": "74d8283a-cb36-417e-9e26-94a8f2c22eca",
   "metadata": {},
   "outputs": [
    {
     "data": {
      "text/plain": [
       "127"
      ]
     },
     "execution_count": 25,
     "metadata": {},
     "output_type": "execute_result"
    }
   ],
   "source": [
    "# 자연수 n이 매개변수로 주어집니다. n을 x로 나눈 나머지가 1이 되도록 하는 가장 작은 자연수 x를 return 하도록 solution 함수를 완성해주세요.\n",
    "# 답이 항상 존재함은 증명될 수 있습니다.\n",
    "\n",
    "def solution(n) :\n",
    "    for i in range(1, n) :\n",
    "        if n % i == 1 : return i\n",
    "\n",
    "solution(128)"
   ]
  },
  {
   "cell_type": "code",
   "execution_count": 37,
   "id": "3d902e55-29d1-4527-9d6d-a8f1b1d4f703",
   "metadata": {},
   "outputs": [
    {
     "data": {
      "text/plain": [
       "-1234"
      ]
     },
     "execution_count": 37,
     "metadata": {},
     "output_type": "execute_result"
    }
   ],
   "source": [
    "# 다시풀기\n",
    "\n",
    "# 문자열 s를 숫자로 변환한 결과를 반환하는 함수, solution을 완성하세요.\n",
    "\n",
    "# 제한 조건\n",
    "# s의 길이는 1 이상 5이하입니다.\n",
    "# s의 맨앞에는 부호(+, -)가 올 수 있습니다.\n",
    "# s는 부호와 숫자로만 이루어져있습니다.\n",
    "# s는 \"0\"으로 시작하지 않습니다.\n",
    "\n",
    "def solution(s) :\n",
    "    return int(s)\n",
    "\n",
    "solution('-1234')"
   ]
  },
  {
   "cell_type": "code",
   "execution_count": 39,
   "id": "27baa981-1d59-4e84-85e0-ab87702095e0",
   "metadata": {},
   "outputs": [
    {
     "data": {
      "text/plain": [
       "28"
      ]
     },
     "execution_count": 39,
     "metadata": {},
     "output_type": "execute_result"
    }
   ],
   "source": [
    "# 정수 n을 입력받아 n의 약수를 모두 더한 값을 리턴하는 함수, solution을 완성해주세요.\n",
    "\n",
    "def solution(n) :\n",
    "    sum = 0\n",
    "    for i in range(1, n+1) :\n",
    "        if n % i == 0 : sum += i\n",
    "    return sum\n",
    "\n",
    "solution(12)"
   ]
  },
  {
   "cell_type": "code",
   "execution_count": 57,
   "id": "b33d3839-b484-4cf3-b1cc-997183308c7f",
   "metadata": {},
   "outputs": [
    {
     "data": {
      "text/plain": [
       "873211"
      ]
     },
     "execution_count": 57,
     "metadata": {},
     "output_type": "execute_result"
    }
   ],
   "source": [
    "# 다시풀기\n",
    "\n",
    "# 함수 solution은 정수 n을 매개변수로 입력받습니다. n의 각 자릿수를 큰것부터 작은 순으로 정렬한 새로운 정수를 리턴해주세요.\n",
    "# 예를들어 n이 118372면 873211을 리턴하면 됩니다.\n",
    "\n",
    "def solution(n) :\n",
    "    answer = []\n",
    "    nn = str(n)\n",
    "    for i in range(0, len(nn)) :\n",
    "        answer.append(nn[i])\n",
    "    answer.sort()\n",
    "    na = []\n",
    "    for j in range(0, len(answer)) :\n",
    "        na.insert(0, answer[j])\n",
    "    na = int(\"\".join(na))\n",
    "    return na\n",
    "\n",
    "solution(118372)"
   ]
  },
  {
   "cell_type": "code",
   "execution_count": 64,
   "id": "c0e8169c-1d8c-451c-a775-79c7610a3320",
   "metadata": {},
   "outputs": [
    {
     "data": {
      "text/plain": [
       "3"
      ]
     },
     "execution_count": 64,
     "metadata": {},
     "output_type": "execute_result"
    }
   ],
   "source": [
    "# 두 정수 a, b가 주어졌을 때 a와 b 사이에 속한 모든 정수의 합을 리턴하는 함수, solution을 완성하세요.\n",
    "# 예를 들어 a = 3, b = 5인 경우, 3 + 4 + 5 = 12이므로 12를 리턴합니다.\n",
    "\n",
    "def solution(a, b) :\n",
    "    sum = 0\n",
    "    if a < b :\n",
    "        for i in range(a, b+1) :\n",
    "            sum += i\n",
    "    else :\n",
    "        for i in range(b, a+1) :\n",
    "            sum += i\n",
    "    return sum\n",
    "\n",
    "solution(3,3)"
   ]
  },
  {
   "cell_type": "code",
   "execution_count": 4,
   "id": "0f3c1701-8fa4-462f-8186-883f957fbeea",
   "metadata": {},
   "outputs": [
    {
     "data": {
      "text/plain": [
       "True"
      ]
     },
     "execution_count": 4,
     "metadata": {},
     "output_type": "execute_result"
    }
   ],
   "source": [
    "#대문자와 소문자가 섞여있는 문자열 s가 주어집니다. s에 'p'의 개수와 'y'의 개수를 비교해 같으면 True, 다르면 False를 return 하는 solution를 완성하세요. \n",
    "# 'p', 'y' 모두 하나도 없는 경우는 항상 True를 리턴합니다. 단, 개수를 비교할 때 대문자와 소문자는 구별하지 않습니다.\n",
    "\n",
    "# 예를 들어 s가 \"pPoooyY\"면 true를 return하고 \"Pyy\"라면 false를 return합니다.\n",
    "\n",
    "def solution(n) :\n",
    "    nn = n.upper()\n",
    "    y = 0\n",
    "    p = 0\n",
    "    for i in range(0, len(nn)) :\n",
    "        if nn[i] == 'P' :\n",
    "            p += 1\n",
    "        elif nn[i] == 'Y' :\n",
    "            y += 1\n",
    "    if y == p :\n",
    "        return True\n",
    "    else :\n",
    "        return False\n",
    "\n",
    "solution(\"pPoooyY\")"
   ]
  },
  {
   "cell_type": "code",
   "execution_count": 11,
   "id": "f8372022-5c0e-46c2-a810-b2b69cbd1a93",
   "metadata": {},
   "outputs": [
    {
     "data": {
      "text/plain": [
       "144"
      ]
     },
     "execution_count": 11,
     "metadata": {},
     "output_type": "execute_result"
    }
   ],
   "source": [
    "# 임의의 양의 정수 n에 대해, n이 어떤 양의 정수 x의 제곱인지 아닌지 판단하려 합니다.\n",
    "# n이 양의 정수 x의 제곱이라면 x+1의 제곱을 리턴하고, n이 양의 정수 x의 제곱이 아니라면 -1을 리턴하는 함수를 완성하세요.\n",
    "import math\n",
    "\n",
    "def solution(n) :\n",
    "    for i in range(1, 10000000) :\n",
    "        if i**2 == n :\n",
    "            return (i+1)**2\n",
    "    return -1\n",
    "\n",
    "solution(121)"
   ]
  },
  {
   "cell_type": "code",
   "execution_count": 14,
   "id": "5471605b-0602-4b50-8786-ab21b03b9954",
   "metadata": {},
   "outputs": [
    {
     "data": {
      "text/plain": [
       "True"
      ]
     },
     "execution_count": 14,
     "metadata": {},
     "output_type": "execute_result"
    }
   ],
   "source": [
    "# 양의 정수 x가 하샤드 수이려면 x의 자릿수의 합으로 x가 나누어져야 합니다. 예를 들어 18의 자릿수 합은 1+8=9이고, 18은 9로 나누어 떨어지므로 18은 하샤드 수입니다.\n",
    "# 자연수 x를 입력받아 x가 하샤드 수인지 아닌지 검사하는 함수, solution을 완성해주세요.\n",
    "\n",
    "def solution(n) :\n",
    "    nn = str(n)\n",
    "    nnsum = 0\n",
    "    for i in range(0, len(nn)) :\n",
    "        nnsum += int(nn[i])\n",
    "    if n % nnsum == 0 :\n",
    "        return True\n",
    "    else : return False\n",
    "\n",
    "solution(10)"
   ]
  },
  {
   "cell_type": "code",
   "execution_count": 19,
   "id": "514cd6cd-4a15-46c4-9a97-2c0f1f20f4ea",
   "metadata": {},
   "outputs": [
    {
     "data": {
      "text/plain": [
       "9"
      ]
     },
     "execution_count": 19,
     "metadata": {},
     "output_type": "execute_result"
    }
   ],
   "source": [
    "# 어떤 정수들이 있습니다. 이 정수들의 절댓값을 차례대로 담은 정수 배열 absolutes와 이 정수들의 부호를 차례대로 담은 불리언 배열 signs가 매개변수로 주어집니다.\n",
    "# 실제 정수들의 합을 구하여 return 하도록 solution 함수를 완성해주세요.\n",
    "\n",
    "def solution(absolutes, signs):\n",
    "    sumsum = 0\n",
    "    for i in range(0, len(signs)) :\n",
    "        if signs[i] == True :\n",
    "            sumsum += absolutes[i]\n",
    "        else : sumsum -= absolutes[i]\n",
    "    return sumsum\n",
    "\n",
    "solution([4,7,12], [True,False,True])\n",
    "    "
   ]
  },
  {
   "cell_type": "code",
   "execution_count": 20,
   "id": "edc49369-4132-4655-9256-497da388ce10",
   "metadata": {},
   "outputs": [
    {
     "data": {
      "text/plain": [
       "14"
      ]
     },
     "execution_count": 20,
     "metadata": {},
     "output_type": "execute_result"
    }
   ],
   "source": [
    "# 0부터 9까지의 숫자 중 일부가 들어있는 정수 배열 numbers가 매개변수로 주어집니다.\n",
    "# numbers에서 찾을 수 없는 0부터 9까지의 숫자를 모두 찾아 더한 수를 return 하도록 solution 함수를 완성해주세요.\n",
    "\n",
    "def solution(n) :\n",
    "    sumsum = 45\n",
    "    for i in range(0, len(n)) :\n",
    "        sumsum -= n[i]\n",
    "    return sumsum\n",
    "\n",
    "solution([1,2,3,4,6,7,8,0])"
   ]
  },
  {
   "cell_type": "code",
   "execution_count": 29,
   "id": "1e8f3305-ccaa-4eeb-b683-7ddd18ffe550",
   "metadata": {},
   "outputs": [
    {
     "data": {
      "text/plain": [
       "[5, 10]"
      ]
     },
     "execution_count": 29,
     "metadata": {},
     "output_type": "execute_result"
    }
   ],
   "source": [
    "# array의 각 element 중 divisor로 나누어 떨어지는 값을 오름차순으로 정렬한 배열을 반환하는 함수, solution을 작성해주세요.\n",
    "# divisor로 나누어 떨어지는 element가 하나도 없다면 배열에 -1을 담아 반환하세요.\n",
    "\n",
    "def solution(arr, divisor) :\n",
    "    arr1 = []\n",
    "    for i in range(0, len(arr)) :\n",
    "        if arr[i] % divisor == 0 :\n",
    "            arr1.append(arr[i])\n",
    "    arr1.sort()\n",
    "    if arr1 == [] : return [-1]\n",
    "    return arr1\n",
    "\n",
    "solution([5, 9, 7, 10], 5)"
   ]
  },
  {
   "cell_type": "code",
   "execution_count": 33,
   "id": "860dd31e-db34-4bc2-94e8-45e8deffa709",
   "metadata": {},
   "outputs": [
    {
     "data": {
      "text/plain": [
       "'김서방은 1에 있다'"
      ]
     },
     "execution_count": 33,
     "metadata": {},
     "output_type": "execute_result"
    }
   ],
   "source": [
    "# String형 배열 seoul의 element중 \"Kim\"의 위치 x를 찾아, \"김서방은 x에 있다\"는 String을 반환하는 함수, solution을 완성하세요.\n",
    "# seoul에 \"Kim\"은 오직 한 번만 나타나며 잘못된 값이 입력되는 경우는 없습니다.\n",
    "\n",
    "def solution(seoul) :\n",
    "    for i in range(0, len(seoul)) :\n",
    "        if seoul[i] == 'Kim' :\n",
    "            return \"김서방은 \" + str(i) + \"에 있다\"\n",
    "            \n",
    "solution([\"Jane\", \"Kim\"])"
   ]
  },
  {
   "cell_type": "code",
   "execution_count": 36,
   "id": "1cab9cd0-7aef-4b3e-bcec-0f047561b09d",
   "metadata": {},
   "outputs": [
    {
     "data": {
      "text/plain": [
       "-1"
      ]
     },
     "execution_count": 36,
     "metadata": {},
     "output_type": "execute_result"
    }
   ],
   "source": [
    "# 1937년 Collatz란 사람에 의해 제기된 이 추측은, 주어진 수가 1이 될 때까지 다음 작업을 반복하면, 모든 수를 1로 만들 수 있다는 추측입니다. 작업은 다음과 같습니다.\n",
    "\n",
    "# 1-1. 입력된 수가 짝수라면 2로 나눕니다. \n",
    "# 1-2. 입력된 수가 홀수라면 3을 곱하고 1을 더합니다. \n",
    "# 2. 결과로 나온 수에 같은 작업을 1이 될 때까지 반복합니다. \n",
    "# 예를 들어, 주어진 수가 6이라면 6 → 3 → 10 → 5 → 16 → 8 → 4 → 2 → 1 이 되어 총 8번 만에 1이 됩니다.\n",
    "# 위 작업을 몇 번이나 반복해야 하는지 반환하는 함수, solution을 완성해 주세요.\n",
    "# 단, 주어진 수가 1인 경우에는 0을, 작업을 500번 반복할 때까지 1이 되지 않는다면 –1을 반환해 주세요.\n",
    "\n",
    "def solution(num) :\n",
    "    for i in range(0,500) :\n",
    "        if num == 1 : return i\n",
    "        elif num % 2 == 0 :\n",
    "            num = num/2\n",
    "        elif num % 2 == 1 :\n",
    "            num = num*3 + 1\n",
    "    return -1\n",
    "\n",
    "solution(626331)\n",
    "        "
   ]
  },
  {
   "cell_type": "code",
   "execution_count": 39,
   "id": "3f83064b-69a1-4d24-a6a7-719bbe774dcc",
   "metadata": {},
   "outputs": [
    {
     "data": {
      "text/plain": [
       "'*******4444'"
      ]
     },
     "execution_count": 39,
     "metadata": {},
     "output_type": "execute_result"
    }
   ],
   "source": [
    "# 프로그래머스 모바일은 개인정보 보호를 위해 고지서를 보낼 때 고객들의 전화번호의 일부를 가립니다.\n",
    "# 전화번호가 문자열 phone_number로 주어졌을 때, 전화번호의 뒷 4자리를 제외한 나머지 숫자를 전부 *으로 가린 문자열을 리턴하는 함수, solution을 완성해주세요.\n",
    "\n",
    "def solution(phone_number) :\n",
    "    number = []\n",
    "    for i in range(0, len(phone_number)-4) :\n",
    "        number.append('*')\n",
    "    for j in range(len(phone_number)-4, len(phone_number)) :\n",
    "        number.append(phone_number[j])\n",
    "    number = ''.join(number)\n",
    "    return number\n",
    "\n",
    "solution(\"01033334444\")"
   ]
  },
  {
   "cell_type": "code",
   "execution_count": 48,
   "id": "0fdb692b-1f9b-4e3a-82b4-4547daca263c",
   "metadata": {},
   "outputs": [
    {
     "data": {
      "text/plain": [
       "'we'"
      ]
     },
     "execution_count": 48,
     "metadata": {},
     "output_type": "execute_result"
    }
   ],
   "source": [
    "# 단어 s의 가운데 글자를 반환하는 함수, solution을 만들어 보세요. 단어의 길이가 짝수라면 가운데 두글자를 반환하면 됩니다.\n",
    "import math\n",
    "\n",
    "def solution(s) :\n",
    "    if len(s) % 2 == 1 :\n",
    "        a = math.trunc(len(s)/2)\n",
    "        return s[a]\n",
    "    else :\n",
    "        ss = []\n",
    "        a = int(len(s)/2 - 1)\n",
    "        b = int(len(s)/2)\n",
    "        ss.append(s[a])\n",
    "        ss.append(s[b])\n",
    "        ss = ''.join(ss)\n",
    "        return ss\n",
    "\n",
    "solution(\"qwer\")"
   ]
  },
  {
   "cell_type": "code",
   "execution_count": null,
   "id": "5b9c6055-a23a-49b4-982e-180c0580b392",
   "metadata": {},
   "outputs": [],
   "source": []
  }
 ],
 "metadata": {
  "kernelspec": {
   "display_name": "Python 3 (ipykernel)",
   "language": "python",
   "name": "python3"
  },
  "language_info": {
   "codemirror_mode": {
    "name": "ipython",
    "version": 3
   },
   "file_extension": ".py",
   "mimetype": "text/x-python",
   "name": "python",
   "nbconvert_exporter": "python",
   "pygments_lexer": "ipython3",
   "version": "3.13.2"
  }
 },
 "nbformat": 4,
 "nbformat_minor": 5
}
