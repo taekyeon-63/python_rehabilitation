{
 "cells": [
  {
   "cell_type": "code",
   "execution_count": 3,
   "id": "a2a82059-52a1-4dbf-b7b3-a391cd7c4058",
   "metadata": {},
   "outputs": [
    {
     "data": {
      "text/plain": [
       "[4, 3, 2]"
      ]
     },
     "execution_count": 3,
     "metadata": {},
     "output_type": "execute_result"
    }
   ],
   "source": [
    "# 다시풀기\n",
    "\n",
    "# 정수를 저장한 배열, arr 에서 가장 작은 수를 제거한 배열을 리턴하는 함수, solution을 완성해주세요.\n",
    "# 단, 리턴하려는 배열이 빈 배열인 경우엔 배열에 -1을 채워 리턴하세요. 예를들어 arr이 [4,3,2,1]인 경우는 [4,3,2]를 리턴 하고, [10]면 [-1]을 리턴 합니다.\n",
    "\n",
    "\n",
    "def solution(arr) :\n",
    "    if len(arr) < 2 : return [-1]\n",
    "    else :\n",
    "        min = 99999\n",
    "        for i in range(0, len(arr)) :\n",
    "            if arr[i] < min :\n",
    "                min = arr[i]\n",
    "        for j in range(0, len(arr)) :\n",
    "            if arr[j] == min :\n",
    "                arr.pop(j)\n",
    "                return arr\n",
    "\n",
    "solution([4,3,2,1])"
   ]
  },
  {
   "cell_type": "code",
   "execution_count": 4,
   "id": "67b50d12-3cc0-4e94-872c-234276e4fa9f",
   "metadata": {},
   "outputs": [
    {
     "data": {
      "text/plain": [
       "3"
      ]
     },
     "execution_count": 4,
     "metadata": {},
     "output_type": "execute_result"
    }
   ],
   "source": [
    "# 길이가 같은 두 1차원 정수 배열 a, b가 매개변수로 주어집니다. a와 b의 내적을 return 하도록 solution 함수를 완성해주세요.\n",
    "# 이때, a와 b의 내적은 a[0]*b[0] + a[1]*b[1] + ... + a[n-1]*b[n-1] 입니다. (n은 a, b의 길이)\n",
    "\n",
    "def solution(a, b) :\n",
    "    c = 0\n",
    "    for i in range(0, len(a)) :\n",
    "        c += a[i]*b[i]\n",
    "    return c\n",
    "\n",
    "solution([1,2,3,4], [-3,-1,0,2])"
   ]
  },
  {
   "cell_type": "code",
   "execution_count": 7,
   "id": "30f07b15-aa83-426a-9222-329437f7a496",
   "metadata": {},
   "outputs": [
    {
     "data": {
      "text/plain": [
       "'수박수'"
      ]
     },
     "execution_count": 7,
     "metadata": {},
     "output_type": "execute_result"
    }
   ],
   "source": [
    "# 길이가 n이고, \"수박수박수박수....\"와 같은 패턴을 유지하는 문자열을 리턴하는 함수, solution을 완성하세요.\n",
    "# 예를들어 n이 4이면 \"수박수박\"을 리턴하고 3이라면 \"수박수\"를 리턴하면 됩니다.\n",
    "import math\n",
    "\n",
    "def solution(n) :\n",
    "    a = []\n",
    "    if n % 2 == 0 :\n",
    "        for i in range(0, int(n/2)) :\n",
    "            a.append(\"수박\")\n",
    "    else :\n",
    "        for j in range(0, math.trunc(n/2)) :\n",
    "            a.append(\"수박\")\n",
    "        a.append(\"수\")\n",
    "    a = ''.join(a)\n",
    "    return a\n",
    "\n",
    "solution(3)"
   ]
  },
  {
   "cell_type": "code",
   "execution_count": 9,
   "id": "a986ab2c-f996-4c04-9264-334d14d93bfe",
   "metadata": {},
   "outputs": [
    {
     "data": {
      "text/plain": [
       "'수박수'"
      ]
     },
     "execution_count": 9,
     "metadata": {},
     "output_type": "execute_result"
    }
   ],
   "source": [
    "def solution(n) :\n",
    "    str = \"수박\"*n\n",
    "    return str[:n]\n",
    "\n",
    "solution(3)"
   ]
  },
  {
   "cell_type": "code",
   "execution_count": 11,
   "id": "94d7881c-3dee-4e41-98ed-b710c6120c59",
   "metadata": {},
   "outputs": [
    {
     "data": {
      "text/plain": [
       "52"
      ]
     },
     "execution_count": 11,
     "metadata": {},
     "output_type": "execute_result"
    }
   ],
   "source": [
    "# 두 정수 left와 right가 매개변수로 주어집니다. left부터 right까지의 모든 수들 중에서,\n",
    "# 약수의 개수가 짝수인 수는 더하고, 약수의 개수가 홀수인 수는 뺀 수를 return 하도록 solution 함수를 완성해주세요.\n",
    "\n",
    "def solution(left, right) :\n",
    "    result = 0\n",
    "    for i in range(left, right+1) :\n",
    "        yaksu = 0\n",
    "        for j in range(1, i+1) :\n",
    "            if i % j == 0 :\n",
    "                yaksu += 1\n",
    "        if yaksu % 2 == 0 :\n",
    "            result += i\n",
    "        elif yaksu % 2 == 1 : \n",
    "            result -= i\n",
    "    return result\n",
    "\n",
    "solution(24,27)"
   ]
  },
  {
   "cell_type": "code",
   "execution_count": 18,
   "id": "02d9b84d-dbc4-4e40-b9a8-548ac0566729",
   "metadata": {},
   "outputs": [
    {
     "data": {
      "text/plain": [
       "'gfedcbZ'"
      ]
     },
     "execution_count": 18,
     "metadata": {},
     "output_type": "execute_result"
    }
   ],
   "source": [
    "# 다시풀기\n",
    "\n",
    "# 문자열 s에 나타나는 문자를 큰것부터 작은 순으로 정렬해 새로운 문자열을 리턴하는 함수, solution을 완성해주세요.\n",
    "# s는 영문 대소문자로만 구성되어 있으며, 대문자는 소문자보다 작은 것으로 간주합니다.\n",
    "\n",
    "def solution(str) :\n",
    "    a = []\n",
    "    for i in range(0, len(str)) :\n",
    "        a.append(str[i])\n",
    "    a.sort(reverse=True)\n",
    "    return ''.join(a)\n",
    "\n",
    "solution(\"Zbcdefg\")"
   ]
  },
  {
   "cell_type": "code",
   "execution_count": 20,
   "id": "37822f8f-b8f6-40c4-bad2-f773682e321c",
   "metadata": {},
   "outputs": [
    {
     "data": {
      "text/plain": [
       "10"
      ]
     },
     "execution_count": 20,
     "metadata": {},
     "output_type": "execute_result"
    }
   ],
   "source": [
    "# 새로 생긴 놀이기구는 인기가 매우 많아 줄이 끊이질 않습니다. 이 놀이기구의 원래 이용료는 price원 인데,\n",
    "# 놀이기구를 N 번 째 이용한다면 원래 이용료의 N배를 받기로 하였습니다. 즉, 처음 이용료가 100이었다면 2번째에는 200, 3번째에는 300으로 요금이 인상됩니다.\n",
    "# 놀이기구를 count번 타게 되면 현재 자신이 가지고 있는 금액에서 얼마가 모자라는지를 return 하도록 solution 함수를 완성하세요.\n",
    "# 단, 금액이 부족하지 않으면 0을 return 하세요.\n",
    "\n",
    "def solution(price, money, count):\n",
    "    total = 0\n",
    "    for i in range(0, count) :\n",
    "        total += price*(i+1)\n",
    "    if total < money : total = money\n",
    "    return total - money\n",
    "\n",
    "solution(3,20,4)"
   ]
  },
  {
   "cell_type": "code",
   "execution_count": 36,
   "id": "1d872463-b769-464d-9d7b-b415e37bc112",
   "metadata": {},
   "outputs": [
    {
     "data": {
      "text/plain": [
       "False"
      ]
     },
     "execution_count": 36,
     "metadata": {},
     "output_type": "execute_result"
    }
   ],
   "source": [
    "# 다시풀기\n",
    "\n",
    "# 문자열 s의 길이가 4 혹은 6이고, 숫자로만 구성돼있는지 확인해주는 함수, solution을 완성하세요.\n",
    "# 예를 들어 s가 \"a234\"이면 False를 리턴하고 \"1234\"라면 True를 리턴하면 됩니다.\n",
    "\n",
    "def solution(s) :\n",
    "    if len(s) not in (4,6) : \n",
    "        return False\n",
    "    if not s.isdigit() :\n",
    "        return False\n",
    "    return True\n",
    "\n",
    "\n",
    "\n",
    "\n",
    "solution(\"a112\")"
   ]
  },
  {
   "cell_type": "code",
   "execution_count": 47,
   "id": "f451a5ce-7f8a-48ef-ac21-001acfdf5a2a",
   "metadata": {},
   "outputs": [
    {
     "data": {
      "text/plain": [
       "[[4, 6], [7, 9]]"
      ]
     },
     "execution_count": 47,
     "metadata": {},
     "output_type": "execute_result"
    }
   ],
   "source": [
    "# 다시풀기\n",
    "\n",
    "# 행렬의 덧셈은 행과 열의 크기가 같은 두 행렬의 같은 행, 같은 열의 값을 서로 더한 결과가 됩니다.\n",
    "# 2개의 행렬 arr1과 arr2를 입력받아, 행렬 덧셈의 결과를 반환하는 함수, solution을 완성해주세요.\n",
    "\n",
    "def solution(arr1, arr2) :\n",
    "    for i in range(len(arr1)) :\n",
    "        for j in range(len(arr1[0])) :\n",
    "            arr1[i][j] = arr1[i][j] + arr2[i][j]\n",
    "    return arr1\n",
    "\n",
    "solution([[1,2],[2,3]], [[3,4],[5,6]])"
   ]
  },
  {
   "cell_type": "code",
   "execution_count": 60,
   "id": "b970b01c-8c88-4512-bd38-efa224351e36",
   "metadata": {},
   "outputs": [
    {
     "name": "stdin",
     "output_type": "stream",
     "text": [
      " 5 3\n"
     ]
    },
    {
     "name": "stdout",
     "output_type": "stream",
     "text": [
      "*****\n",
      "*****\n",
      "*****\n"
     ]
    }
   ],
   "source": [
    "# 다시풀기\n",
    "\n",
    "# 이 문제에는 표준 입력으로 두 개의 정수 n과 m이 주어집니다.\n",
    "# 별(*) 문자를 이용해 가로의 길이가 n, 세로의 길이가 m인 직사각형 형태를 출력해보세요.\n",
    "\n",
    "n,m = map(int, input().split())\n",
    "\n",
    "for _ in range(m) :\n",
    "    print('*' * n)\n",
    "\n"
   ]
  },
  {
   "cell_type": "code",
   "execution_count": 74,
   "id": "0aa72aea-6e0b-4f63-8f0f-3116298d8f3c",
   "metadata": {},
   "outputs": [
    {
     "data": {
      "text/plain": [
       "[1, 3, 0, 1]"
      ]
     },
     "execution_count": 74,
     "metadata": {},
     "output_type": "execute_result"
    }
   ],
   "source": [
    "# 다시풀기\n",
    "\n",
    "# 배열 arr가 주어집니다. 배열 arr의 각 원소는 숫자 0부터 9까지로 이루어져 있습니다. 이때, 배열 arr에서 연속적으로 나타나는 숫자는 하나만 남기고 전부 제거하려고 합니다.\n",
    "# 단, 제거된 후 남은 수들을 반환할 때는 배열 arr의 원소들의 순서를 유지해야 합니다.\n",
    "# 예를 들면,\n",
    "# arr = [1, 1, 3, 3, 0, 1, 1] 이면 [1, 3, 0, 1] 을 return 합니다.\n",
    "# arr = [4, 4, 4, 3, 3] 이면 [4, 3] 을 return 합니다.\n",
    "\n",
    "def solution(arr) :\n",
    "    a = []\n",
    "    for i in arr :\n",
    "        if not a or a[-1] != i:\n",
    "            a.append(i)\n",
    "    return a\n",
    "\n",
    "solution([1,1,3,3,0,1,1])"
   ]
  },
  {
   "cell_type": "code",
   "execution_count": 95,
   "id": "f5c5dc40-62a7-4ca4-838f-2cb70f111601",
   "metadata": {},
   "outputs": [
    {
     "data": {
      "text/plain": [
       "[1, 10]"
      ]
     },
     "execution_count": 95,
     "metadata": {},
     "output_type": "execute_result"
    }
   ],
   "source": [
    "# 다시풀기\n",
    "\n",
    "# 두 수를 입력받아 두 수의 최대공약수와 최소공배수를 반환하는 함수, solution을 완성해 보세요. 배열의 맨 앞에 최대공약수, 그다음 최소공배수를 넣어 반환하면 됩니다.\n",
    "# 예를 들어 두 수 3, 12의 최대공약수는 3, 최소공배수는 12이므로 solution(3, 12)는 [3, 12]를 반환해야 합니다.\n",
    "\n",
    "def solution(n,m) :\n",
    "    dae = 1\n",
    "    for i in range(1, min(n,m)+1) :\n",
    "        if n % i == 0 and m % i == 0 :\n",
    "            if dae < i :\n",
    "                dae = i\n",
    "    so = n * m // dae\n",
    "    return [dae, so]\n",
    "\n",
    "solution(2,5)"
   ]
  },
  {
   "cell_type": "code",
   "execution_count": 106,
   "id": "5e837b92-1440-45f6-ba4a-3e0bb3bc80d2",
   "metadata": {},
   "outputs": [
    {
     "data": {
      "text/plain": [
       "['5', '0', '0', '2', '2', '0', '3', '7']"
      ]
     },
     "execution_count": 106,
     "metadata": {},
     "output_type": "execute_result"
    }
   ],
   "source": [
    "# 숫자로 이루어진 문자열 t와 p가 주어질 때, t에서 p와 길이가 같은 부분문자열 중에서,\n",
    "# 이 부분문자열이 나타내는 수가 p가 나타내는 수보다 작거나 같은 것이 나오는 횟수를 return하는 함수 solution을 완성하세요.\n",
    "\n",
    "def solution(t,p) :\n",
    "    aa = []\n",
    "    for i in range(0, len(t) - len(p) + 1) :\n",
    "        if int(t[i:i+len(p)]) < int(p) or int(t[i:i+len(p)]) == int(p):\n",
    "            aa.append(t[i:i+len(p)])    \n",
    "    return len(aa)\n",
    "\n",
    "solution(\"500220839878\", \"7\")"
   ]
  },
  {
   "cell_type": "code",
   "execution_count": 116,
   "id": "120ad07c-a3b9-4d5f-830c-d85512229ed2",
   "metadata": {},
   "outputs": [
    {
     "data": {
      "text/plain": [
       "3"
      ]
     },
     "execution_count": 116,
     "metadata": {},
     "output_type": "execute_result"
    }
   ],
   "source": [
    "# 물품을 구매해 줄 때는 각 부서가 신청한 금액만큼을 모두 지원해 줘야 합니다. 예를 들어 1,000원을 신청한 부서에는 정확히 1,000원을 지원해야 하며,\n",
    "# 1,000원보다 적은 금액을 지원해 줄 수는 없습니다.\n",
    "#부서별로 신청한 금액이 들어있는 배열 d와 예산 budget이 매개변수로 주어질 때, 최대 몇 개의 부서에 물품을 지원할 수 있는지 return 하도록 solution 함수를 완성해주세요.\n",
    "\n",
    "# d는 부서별로 신청한 금액이 들어있는 배열이며, 길이(전체 부서의 개수)는 1 이상 100 이하입니다.\n",
    "# d의 각 원소는 부서별로 신청한 금액을 나타내며, 부서별 신청 금액은 1 이상 100,000 이하의 자연수입니다.\n",
    "# budget은 예산을 나타내며, 1 이상 10,000,000 이하의 자연수입니다.\n",
    "\n",
    "def solution(d, budget) :\n",
    "    d = sorted(d)\n",
    "    dep = 0\n",
    "    for i in range(len(d)) :\n",
    "        if budget - d[i] < 0 :\n",
    "            return dep\n",
    "        else : \n",
    "            dep += 1\n",
    "            budget = budget - d[i]\n",
    "    return dep\n",
    "\n",
    "\n",
    "\n",
    "solution([1,3,2,5,4], 9)\n"
   ]
  },
  {
   "cell_type": "code",
   "execution_count": 122,
   "id": "909adee9-6b23-4899-ac4f-d5441749fb8d",
   "metadata": {},
   "outputs": [
    {
     "data": {
      "text/plain": [
       "7"
      ]
     },
     "execution_count": 122,
     "metadata": {},
     "output_type": "execute_result"
    }
   ],
   "source": [
    "# 다시풀기\n",
    "\n",
    "# 자연수 n이 매개변수로 주어집니다. n을 3진법 상에서 앞뒤로 뒤집은 후, 이를 다시 10진법으로 표현한 수를 return 하도록 solution 함수를 완성해주세요.\n",
    "\n",
    "# 1 3 9 27 81\n",
    "\n",
    "def solution(n) :\n",
    "    digits = []\n",
    "    while n > 0 :\n",
    "        digits.append(str(n % 3))\n",
    "        n //= 3\n",
    "    digits = ''.join(digits)\n",
    "    return int(digits, 3)\n",
    "\n",
    "solution(45)"
   ]
  },
  {
   "cell_type": "code",
   "execution_count": 125,
   "id": "48c5b04a-9337-4213-b28b-ebe959f1226b",
   "metadata": {},
   "outputs": [
    {
     "data": {
      "text/plain": [
       "5"
      ]
     },
     "execution_count": 125,
     "metadata": {},
     "output_type": "execute_result"
    }
   ],
   "source": [
    "# 다시풀기\n",
    "\n",
    "# 한국중학교에 다니는 학생들은 각자 정수 번호를 갖고 있습니다. 이 학교 학생 3명의 정수 번호를 더했을 때 0이 되면 3명의 학생은 삼총사라고 합니다.\n",
    "\n",
    "def solution(number) :\n",
    "    cnt = 0\n",
    "    n = len(number)\n",
    "    for i in range(0, n-2) :\n",
    "        for j in range(i+1, n-1) :\n",
    "            for k in range(j+1, n) :\n",
    "                if number[i] + number[j] + number[k] == 0 :\n",
    "                    cnt += 1\n",
    "    return cnt\n",
    "\n",
    "solution([-3, -2, -1, 0, 1, 2, 3])"
   ]
  },
  {
   "cell_type": "code",
   "execution_count": 128,
   "id": "a9086c4f-f24e-4a54-b264-2c8b04601202",
   "metadata": {},
   "outputs": [
    {
     "data": {
      "text/plain": [
       "'TrY HeLlO WoRlD'"
      ]
     },
     "execution_count": 128,
     "metadata": {},
     "output_type": "execute_result"
    }
   ],
   "source": [
    "# 문자열 s는 한 개 이상의 단어로 구성되어 있습니다. 각 단어는 하나 이상의 공백문자로 구분되어 있습니다.\n",
    "# 각 단어의 짝수번째 알파벳은 대문자로, 홀수번째 알파벳은 소문자로 바꾼 문자열을 리턴하는 함수, solution을 완성하세요.\n",
    "\n",
    "def solution(s):\n",
    "    words = s.split(\" \")\n",
    "    result = []\n",
    "    for word in words:\n",
    "        temp = \"\"\n",
    "        for i, ch in enumerate(word):\n",
    "            if i % 2 == 0:\n",
    "                temp += ch.upper()\n",
    "            else:\n",
    "                temp += ch.lower()\n",
    "        result.append(temp)\n",
    "    return \" \".join(result)\n",
    "\n",
    "solution(\"try hello world\")"
   ]
  },
  {
   "cell_type": "code",
   "execution_count": 130,
   "id": "5c08bee8-de8d-43bf-b899-074a0b2a4389",
   "metadata": {},
   "outputs": [
    {
     "data": {
      "text/plain": [
       "4000"
      ]
     },
     "execution_count": 130,
     "metadata": {},
     "output_type": "execute_result"
    }
   ],
   "source": [
    "# 모든 명함의 가로 길이와 세로 길이를 나타내는 2차원 배열 sizes가 매개변수로 주어집니다.\n",
    "# 모든 명함을 수납할 수 있는 가장 작은 지갑을 만들 때, 지갑의 크기를 return 하도록 solution 함수를 완성해주세요.\n",
    "\n",
    "def solution(sizes) :\n",
    "    depth = 0\n",
    "    width = 0\n",
    "    for i in range(0, len(sizes)) :\n",
    "        dae = max(sizes[i][0], sizes[i][1])\n",
    "        so = min(sizes[i][0], sizes[i][1])\n",
    "        if dae > depth : depth = dae\n",
    "        if so > width : width = so\n",
    "    return depth * width\n",
    "\n",
    "solution([[60, 50], [30, 70], [60, 30], [80, 40]])"
   ]
  },
  {
   "cell_type": "code",
   "execution_count": null,
   "id": "9324ed93-6da2-4683-a083-4ce0e2ca1e1f",
   "metadata": {},
   "outputs": [],
   "source": []
  }
 ],
 "metadata": {
  "kernelspec": {
   "display_name": "Python 3 (ipykernel)",
   "language": "python",
   "name": "python3"
  },
  "language_info": {
   "codemirror_mode": {
    "name": "ipython",
    "version": 3
   },
   "file_extension": ".py",
   "mimetype": "text/x-python",
   "name": "python",
   "nbconvert_exporter": "python",
   "pygments_lexer": "ipython3",
   "version": "3.13.2"
  }
 },
 "nbformat": 4,
 "nbformat_minor": 5
}
