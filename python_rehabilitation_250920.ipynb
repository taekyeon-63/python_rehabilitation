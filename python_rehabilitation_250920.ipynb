{
 "cells": [
  {
   "cell_type": "code",
   "execution_count": 1,
   "id": "8a11a6a6-229c-44f1-bbaf-e85e2187f096",
   "metadata": {},
   "outputs": [
    {
     "data": {
      "text/plain": [
       "'TrY HeLlO WoRlD'"
      ]
     },
     "execution_count": 1,
     "metadata": {},
     "output_type": "execute_result"
    }
   ],
   "source": [
    "# 이상한 문자 만들기\n",
    "\n",
    "def solution(s) :\n",
    "    words = s.split(\" \")\n",
    "    result = []\n",
    "    for word in words :\n",
    "        temp = \"\"\n",
    "        for i, ch in enumerate(word) :\n",
    "            if i % 2 == 0 :\n",
    "                temp += ch.upper()\n",
    "            else : \n",
    "                temp += ch.lower()\n",
    "        result.append(temp)\n",
    "    return \" \".join(result)\n",
    "\n",
    "solution(\"try hello world\")"
   ]
  },
  {
   "cell_type": "code",
   "execution_count": 2,
   "id": "1b3e65ec-4fab-4a84-b8cd-7e1c8e4fd65c",
   "metadata": {},
   "outputs": [
    {
     "data": {
      "text/plain": [
       "False"
      ]
     },
     "execution_count": 2,
     "metadata": {},
     "output_type": "execute_result"
    }
   ],
   "source": [
    "# 문자열 다루기 기본\n",
    "\n",
    "def solution(s) :\n",
    "    if len(s) not in (4,6) : return False\n",
    "    elif s.isdigit() : return True\n",
    "    else : return False\n",
    "\n",
    "solution(\"a234\")"
   ]
  },
  {
   "cell_type": "code",
   "execution_count": 3,
   "id": "2829d103-d8a2-4942-a7ae-2fe0507047d6",
   "metadata": {},
   "outputs": [
    {
     "data": {
      "text/plain": [
       "'*******4444'"
      ]
     },
     "execution_count": 3,
     "metadata": {},
     "output_type": "execute_result"
    }
   ],
   "source": [
    "# 핸드폰 번호 가리기\n",
    "\n",
    "def solution(phone_number) :\n",
    "    phone = []\n",
    "    for i in range(len(phone_number)-4) :\n",
    "        phone.append(\"*\")\n",
    "    for j in range(len(phone_number)-4 ,len(phone_number)) :\n",
    "        phone.append(phone_number[j])\n",
    "    return \"\".join(phone)\n",
    "\n",
    "solution(\"01033334444\")"
   ]
  },
  {
   "cell_type": "code",
   "execution_count": 35,
   "id": "737d179a-504e-4375-9152-a3ba57508d06",
   "metadata": {},
   "outputs": [
    {
     "data": {
      "text/plain": [
       "'A b'"
      ]
     },
     "execution_count": 35,
     "metadata": {},
     "output_type": "execute_result"
    }
   ],
   "source": [
    "#다시풀기\n",
    "\n",
    "#시저 암호\n",
    "\n",
    "def solution(s, n):\n",
    "    ss = []\n",
    "    sa = []\n",
    "    for i in range(len(s)) :\n",
    "        if s[i] == \" \" : ss.append(\" \")\n",
    "        elif ord(s[i]) < 97 :\n",
    "            sss = ord(s[i]) + n\n",
    "            if sss > 90 : sss = sss - 26\n",
    "            ss.append(sss)\n",
    "        else :\n",
    "            sss = ord(s[i]) + n\n",
    "            if sss > 122 : sss = sss - 26\n",
    "            ss.append(sss)\n",
    "    for j in range(len(ss)) :\n",
    "        if ss[j] == \" \" : sa.append(\" \")\n",
    "        else :\n",
    "            sss = chr(ss[j])\n",
    "            sa.append(sss)\n",
    "    return \"\".join(sa)\n",
    "\n",
    "solution('Z a', 1)"
   ]
  },
  {
   "cell_type": "code",
   "execution_count": 36,
   "id": "2717c855-1249-4489-9a39-54dfc53b5e10",
   "metadata": {},
   "outputs": [
    {
     "data": {
      "text/plain": [
       "8765432"
      ]
     },
     "execution_count": 36,
     "metadata": {},
     "output_type": "execute_result"
    }
   ],
   "source": [
    "# 정수 내림차순으로 배치하기\n",
    "\n",
    "def solution(n) :\n",
    "    n = str(n)\n",
    "    nn = []\n",
    "    for i in range(len(n)) :\n",
    "        nn.append(n[i])\n",
    "    nn.sort(reverse = True)\n",
    "    nn = \"\".join(nn)\n",
    "    return int(nn)\n",
    "\n",
    "solution(2854736)"
   ]
  },
  {
   "cell_type": "code",
   "execution_count": 41,
   "id": "446bed92-41fd-409e-8dfd-79e80a6db3c4",
   "metadata": {},
   "outputs": [
    {
     "data": {
      "text/plain": [
       "[1, 3, 0, 1]"
      ]
     },
     "execution_count": 41,
     "metadata": {},
     "output_type": "execute_result"
    }
   ],
   "source": [
    "# 같은 숫자는 싫어\n",
    "\n",
    "def solution(arr) :\n",
    "    arra = []\n",
    "    for i in range(0, len(arr)) :\n",
    "        if i == 0 : arra.append(arr[i])\n",
    "        elif arr[i-1] != arr[i] :\n",
    "            arra.append(arr[i])\n",
    "    return arra\n",
    "\n",
    "solution([1,1,3,3,0,1,1])"
   ]
  },
  {
   "cell_type": "code",
   "execution_count": 57,
   "id": "6470d490-9ff3-49ae-a89b-aa767a84d8e8",
   "metadata": {},
   "outputs": [
    {
     "data": {
      "text/plain": [
       "[5, 6, 3]"
      ]
     },
     "execution_count": 57,
     "metadata": {},
     "output_type": "execute_result"
    }
   ],
   "source": [
    "# 다시풀기\n",
    "\n",
    "# K번째수\n",
    "\n",
    "def solution(array, commands):\n",
    "    result = []\n",
    "    for i in range(len(commands)) :\n",
    "        start = commands[i][0] -1\n",
    "        end = commands[i][1]\n",
    "        pick = commands[i][2] -1\n",
    "\n",
    "        temp = array[start:end]\n",
    "        temp.sort()\n",
    "        result.append(temp[pick])\n",
    "    return result\n",
    "\n",
    "solution([1, 5, 2, 6, 3, 7, 4], [[2, 5, 3], [4, 4, 1], [1, 7, 3]])"
   ]
  },
  {
   "cell_type": "code",
   "execution_count": 58,
   "id": "822966eb-509a-4c23-b653-7e7f33591bd0",
   "metadata": {},
   "outputs": [
    {
     "data": {
      "text/plain": [
       "[5, 10]"
      ]
     },
     "execution_count": 58,
     "metadata": {},
     "output_type": "execute_result"
    }
   ],
   "source": [
    "# 다시풀기\n",
    "\n",
    "# 나누어 떨어지는 숫자 배열\n",
    "\n",
    "def solution(arr, divisor) :\n",
    "    arr1 = []\n",
    "    for i in range(len(arr)) :\n",
    "        if arr[i] % divisor == 0 :\n",
    "            arr1.append(arr[i])\n",
    "    if len(arr1) == 0 : return [-1]\n",
    "    arr1 = sorted(arr1)\n",
    "    return arr1\n",
    "\n",
    "solution([5, 9, 7, 10], 5)"
   ]
  },
  {
   "cell_type": "code",
   "execution_count": 59,
   "id": "f26501c6-d8ce-4f74-b859-ed3ad220a2ce",
   "metadata": {},
   "outputs": [
    {
     "data": {
      "text/plain": [
       "[4, 3, 2]"
      ]
     },
     "execution_count": 59,
     "metadata": {},
     "output_type": "execute_result"
    }
   ],
   "source": [
    "# 다시풀기\n",
    "\n",
    "# 제일 작은 수 제거하기\n",
    "\n",
    "def solution(arr) :\n",
    "    if len(arr) < 2 : return [-1]\n",
    "    min_val = min(arr)\n",
    "    arr.remove(min_val)\n",
    "    return arr\n",
    "\n",
    "solution([4,3,2,1])"
   ]
  },
  {
   "cell_type": "code",
   "execution_count": 60,
   "id": "d1dd446b-a3c1-4061-93a9-0c6ce35c4e8f",
   "metadata": {},
   "outputs": [
    {
     "data": {
      "text/plain": [
       "12"
      ]
     },
     "execution_count": 60,
     "metadata": {},
     "output_type": "execute_result"
    }
   ],
   "source": [
    "# 두 정수 사이의 합\n",
    "\n",
    "def solution(a, b) :\n",
    "    if a == b : return a\n",
    "    else :\n",
    "        hap = 0\n",
    "        if a < b :\n",
    "            for i in range(a, b+1) :\n",
    "                hap += i\n",
    "        elif a > b :\n",
    "            for i in range(b, a+1) :\n",
    "                hap += i\n",
    "        return hap\n",
    "\n",
    "solution(5,3)"
   ]
  },
  {
   "cell_type": "code",
   "execution_count": 62,
   "id": "4d7980d1-4672-4f42-b22c-e8785c25520b",
   "metadata": {},
   "outputs": [
    {
     "data": {
      "text/plain": [
       "[1, 10]"
      ]
     },
     "execution_count": 62,
     "metadata": {},
     "output_type": "execute_result"
    }
   ],
   "source": [
    "# 다시풀기\n",
    "\n",
    "# 최대공약수와 최소공배수\n",
    "\n",
    "def solution(n,m) :\n",
    "    dae = 1\n",
    "    for i in range(1, max(n,m)+1) :\n",
    "        if n % i == 0 and m % i == 0 :\n",
    "            dae = i\n",
    "    so = n * m // dae   \n",
    "    return [dae, so]\n",
    "\n",
    "solution(2,5)"
   ]
  },
  {
   "cell_type": "code",
   "execution_count": 63,
   "id": "0b27f041-d321-4015-97fe-5fbe31de15c4",
   "metadata": {},
   "outputs": [
    {
     "data": {
      "text/plain": [
       "7"
      ]
     },
     "execution_count": 63,
     "metadata": {},
     "output_type": "execute_result"
    }
   ],
   "source": [
    "# 다시풀기\n",
    "\n",
    "# 3진법 뒤집기\n",
    "\n",
    "def solution(n) :\n",
    "    digits = []\n",
    "    while n > 0 :\n",
    "        digits.append(str(n % 3))\n",
    "        n //= 3\n",
    "    result = \"\".join(digits)\n",
    "    return int(result, 3)\n",
    "\n",
    "solution(45)"
   ]
  },
  {
   "cell_type": "code",
   "execution_count": 64,
   "id": "34c84e6c-0690-4a05-846c-3de6ceff9652",
   "metadata": {},
   "outputs": [
    {
     "data": {
      "text/plain": [
       "4"
      ]
     },
     "execution_count": 64,
     "metadata": {},
     "output_type": "execute_result"
    }
   ],
   "source": [
    "# 다시풀기\n",
    "\n",
    "# 소수 찾기\n",
    "\n",
    "def solution(n):\n",
    "    sosu = 0\n",
    "    for i in range(2, n+1) :\n",
    "        is_prime = True\n",
    "        for j in range(2, int(i**0.5)+1) :\n",
    "            if i % j == 0 :\n",
    "                is_prime = False\n",
    "                break\n",
    "        if is_prime :\n",
    "            sosu += 1\n",
    "    return sosu\n",
    "\n",
    "solution(10)"
   ]
  },
  {
   "cell_type": "code",
   "execution_count": 66,
   "id": "51c9b7f0-f87f-4a84-8eaa-867975b8a82d",
   "metadata": {},
   "outputs": [
    {
     "data": {
      "text/plain": [
       "8"
      ]
     },
     "execution_count": 66,
     "metadata": {},
     "output_type": "execute_result"
    }
   ],
   "source": [
    "# 콜라츠 추측\n",
    "\n",
    "def solution(num) :\n",
    "    for i in range(0,500) :\n",
    "        if num == 1 : return i\n",
    "        elif num % 2 == 0 : num = num // 2\n",
    "        elif num % 2 == 1 : num = num * 3 + 1\n",
    "    return -1\n",
    "\n",
    "solution(6)"
   ]
  },
  {
   "cell_type": "code",
   "execution_count": 69,
   "id": "2686e34e-5d78-4399-bfd4-22320a0d904b",
   "metadata": {},
   "outputs": [
    {
     "data": {
      "text/plain": [
       "True"
      ]
     },
     "execution_count": 69,
     "metadata": {},
     "output_type": "execute_result"
    }
   ],
   "source": [
    "# 콜라츠 추측\n",
    "\n",
    "def solution(n) :\n",
    "    nn = []\n",
    "    na = str(n)\n",
    "    for i in range(len(na)) :\n",
    "        nn.append(na[i])\n",
    "    nn = \"\".join(na)\n",
    "    nn = int(nn)\n",
    "    if n % nn == 0 :\n",
    "        return True\n",
    "    return False\n",
    "\n",
    "solution(10)"
   ]
  },
  {
   "cell_type": "code",
   "execution_count": 70,
   "id": "e5b2f7dc-4658-460c-b86a-c540b8a2622d",
   "metadata": {},
   "outputs": [],
   "source": [
    "# 하샤드 수\n",
    "\n",
    "def solution(n) :\n",
    "    nn = []\n",
    "    na = str(n)\n",
    "    for i in range(len(na)) :\n",
    "        nn.append(na[i])\n",
    "    hap = 0\n",
    "    for j in range(len(nn)) :\n",
    "        hap += int(nn[j])\n",
    "    if n % hap == 0 : return True\n",
    "    return False"
   ]
  },
  {
   "cell_type": "code",
   "execution_count": 73,
   "id": "41ac6158-1031-4458-a1d3-fc65840eaf1c",
   "metadata": {},
   "outputs": [
    {
     "data": {
      "text/plain": [
       "2"
      ]
     },
     "execution_count": 73,
     "metadata": {},
     "output_type": "execute_result"
    }
   ],
   "source": [
    "# 삼총사\n",
    "\n",
    "def solution(number) :\n",
    "    hap = 0\n",
    "    for i in range(0, len(number)-2) :\n",
    "        for j in range(i+1, len(number)-1) :\n",
    "            for k in range(j+1, len(number)) :\n",
    "                if number[i] + number[j] + number[k] == 0 :\n",
    "                    hap += 1\n",
    "    return hap\n",
    "\n",
    "solution([-2, 3, 0, 2, -5])"
   ]
  },
  {
   "cell_type": "code",
   "execution_count": 77,
   "id": "999ab582-14de-4a8e-a5e2-ad017b6ef34f",
   "metadata": {},
   "outputs": [
    {
     "data": {
      "text/plain": [
       "4000"
      ]
     },
     "execution_count": 77,
     "metadata": {},
     "output_type": "execute_result"
    }
   ],
   "source": [
    "# 다시풀기\n",
    "\n",
    "# 최소직사각형\n",
    "\n",
    "def solution(sizes) :\n",
    "    depth = 0\n",
    "    width = 0\n",
    "    for i in range(0, len(sizes)) :\n",
    "        dae = max(sizes[i][0], sizes[i][1])\n",
    "        so = min(sizes[i][0], sizes[i][1])\n",
    "        if dae > depth : depth = dae\n",
    "        if so > width : width = so\n",
    "    return depth * width\n",
    "\n",
    "solution([[60, 50], [30, 70], [60, 30], [80, 40]])"
   ]
  },
  {
   "cell_type": "code",
   "execution_count": 80,
   "id": "44231d00-2fe1-49ae-a413-8c303a756d9e",
   "metadata": {},
   "outputs": [
    {
     "data": {
      "text/plain": [
       "5"
      ]
     },
     "execution_count": 80,
     "metadata": {},
     "output_type": "execute_result"
    }
   ],
   "source": [
    "# 다시풀기\n",
    "\n",
    "# 체육복\n",
    "\n",
    "def solution(n, lost, reserve):\n",
    "    # 1) 겹치는 학생 정리\n",
    "    lost_set = set(lost)\n",
    "    reserve_set = set(reserve)\n",
    "    both = lost_set & reserve_set\n",
    "    lost_set -= both\n",
    "    reserve_set -= both\n",
    "\n",
    "    # 2) 정렬된 리스트로 탐색 (하지만 집합으로 들고 있어도 무방)\n",
    "    lost_list = sorted(lost_set)\n",
    "    reserve_list = sorted(reserve_set)\n",
    "\n",
    "    # 3) 빌려주기 (왼쪽 → 오른쪽)\n",
    "    for l in lost_list:\n",
    "        if l - 1 in reserve_set:\n",
    "            reserve_set.remove(l - 1)\n",
    "            lost_set.remove(l)\n",
    "        elif l + 1 in reserve_set:\n",
    "            reserve_set.remove(l + 1)\n",
    "            lost_set.remove(l)\n",
    "\n",
    "    # 4) 결과\n",
    "    return n - len(lost_set)\n",
    "\n",
    "solution(5, [2, 4], [1, 3, 5])"
   ]
  },
  {
   "cell_type": "code",
   "execution_count": 78,
   "id": "7a52dabf-e0b6-43a6-88f5-6721dda0cc3c",
   "metadata": {},
   "outputs": [
    {
     "data": {
      "text/plain": [
       "10"
      ]
     },
     "execution_count": 78,
     "metadata": {},
     "output_type": "execute_result"
    }
   ],
   "source": [
    "# 부족한 금액 계산하기\n",
    "\n",
    "def solution(price, money, count):\n",
    "    total = 0\n",
    "    for i in range(0, count) :\n",
    "        total += price*(i+1)\n",
    "    if money > total : return 0\n",
    "    else : return total - money\n",
    "\n",
    "solution(3,20,4)"
   ]
  },
  {
   "cell_type": "code",
   "execution_count": 79,
   "id": "54194e77-1b03-409a-94ed-c75c55331cf0",
   "metadata": {},
   "outputs": [
    {
     "data": {
      "text/plain": [
       "6"
      ]
     },
     "execution_count": 79,
     "metadata": {},
     "output_type": "execute_result"
    }
   ],
   "source": [
    "# 없는 숫자 더하기\n",
    "\n",
    "def solution(n) :\n",
    "    sumsum = 45\n",
    "    for i in range(len(n)) :\n",
    "        sumsum -= n[i]\n",
    "    return sumsum\n",
    "\n",
    "solution([5,8,4,0,6,7,9])"
   ]
  },
  {
   "cell_type": "code",
   "execution_count": null,
   "id": "2860fa88-7ea1-434b-a603-630a2085ad6e",
   "metadata": {},
   "outputs": [],
   "source": []
  }
 ],
 "metadata": {
  "kernelspec": {
   "display_name": "Python 3 (ipykernel)",
   "language": "python",
   "name": "python3"
  },
  "language_info": {
   "codemirror_mode": {
    "name": "ipython",
    "version": 3
   },
   "file_extension": ".py",
   "mimetype": "text/x-python",
   "name": "python",
   "nbconvert_exporter": "python",
   "pygments_lexer": "ipython3",
   "version": "3.13.2"
  }
 },
 "nbformat": 4,
 "nbformat_minor": 5
}
