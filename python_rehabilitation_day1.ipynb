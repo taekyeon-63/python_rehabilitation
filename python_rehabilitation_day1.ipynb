{
 "cells": [
  {
   "cell_type": "code",
   "execution_count": 4,
   "id": "57df834b-28a1-4a5b-adfb-01bd6f27fc7c",
   "metadata": {},
   "outputs": [
    {
     "data": {
      "text/plain": [
       "3"
      ]
     },
     "execution_count": 4,
     "metadata": {},
     "output_type": "execute_result"
    }
   ],
   "source": [
    "# 정수 num1, num2가 매개변수로 주어질 때, num1을 num2로 나눈 몫을 return 하도록 solution 함수를 완성해주세요.\n",
    "\n",
    "def solution(num1, num2) :\n",
    "    return num1 // num2\n",
    "\n",
    "solution(7,2)"
   ]
  },
  {
   "cell_type": "code",
   "execution_count": 6,
   "id": "2a30c0ec-4b2c-4d4d-b58f-972ac4323cfa",
   "metadata": {},
   "outputs": [
    {
     "data": {
      "text/plain": [
       "1"
      ]
     },
     "execution_count": 6,
     "metadata": {},
     "output_type": "execute_result"
    }
   ],
   "source": [
    "# 정수 num1, num2가 매개변수로 주어질 때, num1를 num2로 나눈 나머지를 return 하도록 solution 함수를 완성해주세요.\n",
    "\n",
    "def solution(num1, num2) : \n",
    "    return num1 % num2\n",
    "    \n",
    "solution(7,2)"
   ]
  },
  {
   "cell_type": "code",
   "execution_count": 7,
   "id": "0d717c03-3665-4ffc-840b-5791ae113e97",
   "metadata": {},
   "outputs": [
    {
     "data": {
      "text/plain": [
       "-1"
      ]
     },
     "execution_count": 7,
     "metadata": {},
     "output_type": "execute_result"
    }
   ],
   "source": [
    "# 정수 num1과 num2가 주어질 때, num1에서 num2를 뺀 값을 return하도록 soltuion 함수를 완성해주세요.\n",
    "\n",
    "def solution(num1, num2) :\n",
    "    return num1 - num2\n",
    "\n",
    "solution(2,3)"
   ]
  },
  {
   "cell_type": "code",
   "execution_count": 10,
   "id": "c7690cbd-0442-45ac-8ca2-7a3af11e3095",
   "metadata": {},
   "outputs": [
    {
     "data": {
      "text/plain": [
       "1"
      ]
     },
     "execution_count": 10,
     "metadata": {},
     "output_type": "execute_result"
    }
   ],
   "source": [
    "# 정수 num1과 num2가 매개변수로 주어집니다. 두 수가 같으면 1 다르면 -1을 retrun하도록 solution 함수를 완성해주세요.\n",
    "\n",
    "def solution(num1, num2) :\n",
    "    if num1 == num2 : return 1\n",
    "    else : return -1\n",
    "\n",
    "solution(1,1)"
   ]
  },
  {
   "cell_type": "code",
   "execution_count": 12,
   "id": "2803ce68-2af8-4393-85f0-72957334a0e5",
   "metadata": {},
   "outputs": [
    {
     "data": {
      "text/plain": [
       "1983"
      ]
     },
     "execution_count": 12,
     "metadata": {},
     "output_type": "execute_result"
    }
   ],
   "source": [
    "# 머쓱이는 선생님이 몇 년도에 태어났는지 궁금해졌습니다. 2022년 기준 선생님의 나이 age가 주어질 때, 선생님의 출생 연도를 return 하는 solution 함수를 완성해주세요\n",
    "\n",
    "def solution(num1) :\n",
    "    return 2022 + 1 - num1\n",
    "\n",
    "solution(40)"
   ]
  },
  {
   "cell_type": "code",
   "execution_count": 15,
   "id": "1abf34f0-2502-4bd8-a261-4d448dd93f43",
   "metadata": {},
   "outputs": [
    {
     "data": {
      "text/plain": [
       "3666.0"
      ]
     },
     "execution_count": 15,
     "metadata": {},
     "output_type": "execute_result"
    }
   ],
   "source": [
    "# 정수 num1과 num2가 매개변수로 주어질 때, num1을 num2로 나눈 값에 1,000을 곱한 후 정수 부분을 return 하도록 solution 함수를 완성해주세요.\n",
    "\n",
    "def solution(num1, num2) :\n",
    "    return (num1 / num2 * 1000) // 1\n",
    "\n",
    "solution(11,3)"
   ]
  },
  {
   "cell_type": "code",
   "execution_count": 17,
   "id": "7d5774b3-48c3-419b-96a4-214b339001d9",
   "metadata": {},
   "outputs": [
    {
     "data": {
      "text/plain": [
       "22"
      ]
     },
     "execution_count": 17,
     "metadata": {},
     "output_type": "execute_result"
    }
   ],
   "source": [
    "# 정수 num1, num2가 매개변수 주어집니다. num1과 num2를 곱한 값을 return 하도록 solution 함수를 완성해주세요.\n",
    "\n",
    "def solution(num1, num2) :\n",
    "    return num1*num2\n",
    "\n",
    "solution(11,2)"
   ]
  },
  {
   "cell_type": "code",
   "execution_count": 18,
   "id": "cba0fe33-60af-4523-9e04-63680ce1863d",
   "metadata": {},
   "outputs": [
    {
     "data": {
      "text/plain": [
       "15"
      ]
     },
     "execution_count": 18,
     "metadata": {},
     "output_type": "execute_result"
    }
   ],
   "source": [
    "# 정수 num1과 num2가 주어질 때, num1과 num2의 합을 return하도록 soltuion 함수를 완성해주세요.\n",
    "\n",
    "def solution(num1, num2) :\n",
    "    return num1 + num2\n",
    "\n",
    "solution(11,4)"
   ]
  },
  {
   "cell_type": "code",
   "execution_count": 41,
   "id": "6c2f75c1-b4ff-4ae5-8893-2cd370eb2bde",
   "metadata": {},
   "outputs": [
    {
     "data": {
      "text/plain": [
       "3"
      ]
     },
     "execution_count": 41,
     "metadata": {},
     "output_type": "execute_result"
    }
   ],
   "source": [
    "# 각에서 0도 초과 90도 미만은 예각, 90도는 직각, 90도 초과 180도 미만은 둔각 180도는 평각으로 분류합니다. \n",
    "# 각 angle이 매개변수로 주어질 때 예각일 때 1, 직각일 때 2, 둔각일 때 3, 평각일 때 4를 return하도록 solution 함수를 완성해주세요.\n",
    "\n",
    "# 다시보기\n",
    "\n",
    "def solution(num1) :\n",
    "    if num1 > 0 and num1 < 90 : return 1\n",
    "    elif num1 == 90 : return 2\n",
    "    elif num1 > 90 and num1 < 180 : return 3\n",
    "    elif num1 == 180 : return 4\n",
    "\n",
    "solution(91)"
   ]
  },
  {
   "cell_type": "code",
   "execution_count": 43,
   "id": "5256a67f-f1a3-4b90-b7f8-45a5706a35c1",
   "metadata": {},
   "outputs": [
    {
     "data": {
      "text/plain": [
       "124000.0"
      ]
     },
     "execution_count": 43,
     "metadata": {},
     "output_type": "execute_result"
    }
   ],
   "source": [
    "# 머쓱이네 양꼬치 가게는 10인분을 먹으면 음료수 하나를 서비스로 줍니다. 양꼬치는 1인분에 12,000원, 음료수는 2,000원입니다. \n",
    "# 정수 n과 k가 매개변수로 주어졌을 때, 양꼬치 n인분과 음료수 k개를 먹었다면 총얼마를 지불해야 하는지 return 하도록 solution 함수를 완성해보세요.\n",
    "\n",
    "def solution(n, k) :\n",
    "    return 12000*n + 2000*(k-(n/10 // 1))\n",
    "\n",
    "solution(10,3)"
   ]
  },
  {
   "cell_type": "code",
   "execution_count": 48,
   "id": "246d7f91-d7e1-4a41-8382-a5987aeeb44b",
   "metadata": {},
   "outputs": [
    {
     "data": {
      "text/plain": [
       "6"
      ]
     },
     "execution_count": 48,
     "metadata": {},
     "output_type": "execute_result"
    }
   ],
   "source": [
    "# 정수 n이 주어질 때, n이하의 짝수를 모두 더한 값을 return 하도록 solution 함수를 작성해주세요.\n",
    "\n",
    "def solution(num1) :\n",
    "    sum_1 = 0\n",
    "    for n in range(2,num1+1,2) :\n",
    "        sum_1 += n\n",
    "    return sum_1\n",
    "\n",
    "solution(4)"
   ]
  },
  {
   "cell_type": "code",
   "execution_count": 52,
   "id": "435b23b9-9a2d-435e-8dbf-6e3a8a289d3d",
   "metadata": {},
   "outputs": [
    {
     "data": {
      "text/plain": [
       "5.5"
      ]
     },
     "execution_count": 52,
     "metadata": {},
     "output_type": "execute_result"
    }
   ],
   "source": [
    "# 정수 배열 numbers가 매개변수로 주어집니다. numbers의 원소의 평균값을 return하도록 solution 함수를 완성해주세요.\n",
    "\n",
    "# 다시보기\n",
    "\n",
    "def solution(numbers) :\n",
    "    return sum(numbers)/len(numbers)\n",
    "\n",
    "solution([1, 2, 3, 4, 5, 6, 7, 8, 9, 10])"
   ]
  },
  {
   "cell_type": "code",
   "execution_count": 56,
   "id": "9cb84ae0-bf32-40b8-8936-cd19d5483406",
   "metadata": {},
   "outputs": [
    {
     "data": {
      "text/plain": [
       "[10, 9, 8, 7, 6, 5, 4, 3, 2, 1]"
      ]
     },
     "execution_count": 56,
     "metadata": {},
     "output_type": "execute_result"
    }
   ],
   "source": [
    "# 정수가 들어 있는 배열 num_list가 매개변수로 주어집니다. num_list의 원소의 순서를 거꾸로 뒤집은 배열을 return하도록 solution 함수를 완성해주세요.\n",
    "\n",
    "# 다시보기\n",
    "def solution(num_list) :\n",
    "    return num_list[::-1]\n",
    "\n",
    "solution([1, 2, 3, 4, 5, 6, 7, 8, 9, 10])"
   ]
  },
  {
   "cell_type": "code",
   "execution_count": null,
   "id": "6ae82891-03ef-42c7-99bf-2dd283fed2dd",
   "metadata": {},
   "outputs": [],
   "source": []
  }
 ],
 "metadata": {
  "kernelspec": {
   "display_name": "Python 3 (ipykernel)",
   "language": "python",
   "name": "python3"
  },
  "language_info": {
   "codemirror_mode": {
    "name": "ipython",
    "version": 3
   },
   "file_extension": ".py",
   "mimetype": "text/x-python",
   "name": "python",
   "nbconvert_exporter": "python",
   "pygments_lexer": "ipython3",
   "version": "3.13.2"
  }
 },
 "nbformat": 4,
 "nbformat_minor": 5
}
